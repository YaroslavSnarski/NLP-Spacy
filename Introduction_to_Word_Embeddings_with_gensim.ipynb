{
  "nbformat": 4,
  "nbformat_minor": 0,
  "metadata": {
    "colab": {
      "provenance": []
    },
    "kernelspec": {
      "name": "python3",
      "display_name": "Python 3"
    },
    "language_info": {
      "name": "python"
    }
  },
  "cells": [
    {
      "cell_type": "markdown",
      "metadata": {
        "id": "3R_ZkQp331VX"
      },
      "source": [
        "# Introduction to Word Embeddings with gensim (Python)\n",
        "\n",
        "Burt Monroe (Penn State)\n",
        "For \"Text as Data\" courses at Penn State and Essex\n",
        "\n"
      ]
    },
    {
      "cell_type": "markdown",
      "metadata": {
        "id": "8V0jTWdSFY-i"
      },
      "source": [
        "This notebook illustrates the estimation of embeddings on a corpus of parliamentary questions from the House of Commons. THey are one dataset of \"conversations\" available via Cornell Conversational Analysis Toolkit (ConvoKit) The data were originally from:\n",
        "\n",
        "> A collections of questions and answers from parliamentary question periods in the British House of Commons from May 1979 to December 2016 (433,787 utterances), scraped from They Work For You <https://www.theyworkforyou.com/>_.\n",
        "\n",
        "> Distributed together with: Asking Too Much? The Rhetorical Role of Questions in Political Discourse. Justine Zhang, Arthur Spirling, Cristian Danescu-Niculescu-Mizil. EMNLP 2017."
      ]
    },
    {
      "cell_type": "code",
      "metadata": {
        "colab": {
          "base_uri": "https://localhost:8080/",
          "height": 1000
        },
        "id": "TtiK8ZXLR6o2",
        "outputId": "42dc0430-e1e0-4994-a393-e79922563446"
      },
      "source": [
        "!pip3 install convokit"
      ],
      "execution_count": null,
      "outputs": [
        {
          "output_type": "stream",
          "text": [
            "Collecting convokit\n",
            "  Downloading convokit-2.5.tar.gz (155 kB)\n",
            "\u001b[?25l\r\u001b[K     |██                              | 10 kB 23.7 MB/s eta 0:00:01\r\u001b[K     |████▏                           | 20 kB 25.7 MB/s eta 0:00:01\r\u001b[K     |██████▎                         | 30 kB 28.5 MB/s eta 0:00:01\r\u001b[K     |████████▍                       | 40 kB 30.2 MB/s eta 0:00:01\r\u001b[K     |██████████▌                     | 51 kB 33.0 MB/s eta 0:00:01\r\u001b[K     |████████████▋                   | 61 kB 34.4 MB/s eta 0:00:01\r\u001b[K     |██████████████▊                 | 71 kB 28.5 MB/s eta 0:00:01\r\u001b[K     |████████████████▉               | 81 kB 28.9 MB/s eta 0:00:01\r\u001b[K     |███████████████████             | 92 kB 30.5 MB/s eta 0:00:01\r\u001b[K     |█████████████████████           | 102 kB 30.4 MB/s eta 0:00:01\r\u001b[K     |███████████████████████▏        | 112 kB 30.4 MB/s eta 0:00:01\r\u001b[K     |█████████████████████████▎      | 122 kB 30.4 MB/s eta 0:00:01\r\u001b[K     |███████████████████████████▍    | 133 kB 30.4 MB/s eta 0:00:01\r\u001b[K     |█████████████████████████████▌  | 143 kB 30.4 MB/s eta 0:00:01\r\u001b[K     |███████████████████████████████▋| 153 kB 30.4 MB/s eta 0:00:01\r\u001b[K     |████████████████████████████████| 155 kB 30.4 MB/s \n",
            "\u001b[?25hRequirement already satisfied: matplotlib>=3.0.0 in /usr/local/lib/python3.7/dist-packages (from convokit) (3.2.2)\n",
            "Requirement already satisfied: pandas>=0.23.4 in /usr/local/lib/python3.7/dist-packages (from convokit) (1.1.5)\n",
            "Collecting msgpack-numpy>=0.4.3.2\n",
            "  Downloading msgpack_numpy-0.4.7.1-py2.py3-none-any.whl (6.7 kB)\n",
            "Collecting spacy>=2.3.5\n",
            "  Downloading spacy-3.1.1-cp37-cp37m-manylinux_2_17_x86_64.manylinux2014_x86_64.whl (6.4 MB)\n",
            "\u001b[K     |████████████████████████████████| 6.4 MB 28.7 MB/s \n",
            "\u001b[?25hRequirement already satisfied: scipy>=1.1.0 in /usr/local/lib/python3.7/dist-packages (from convokit) (1.4.1)\n",
            "Requirement already satisfied: scikit-learn>=0.20.0 in /usr/local/lib/python3.7/dist-packages (from convokit) (0.22.2.post1)\n",
            "Collecting nltk>=3.4\n",
            "  Downloading nltk-3.6.2-py3-none-any.whl (1.5 MB)\n",
            "\u001b[K     |████████████████████████████████| 1.5 MB 48.0 MB/s \n",
            "\u001b[?25hRequirement already satisfied: dill>=0.2.9 in /usr/local/lib/python3.7/dist-packages (from convokit) (0.3.4)\n",
            "Requirement already satisfied: joblib>=0.13.2 in /usr/local/lib/python3.7/dist-packages (from convokit) (1.0.1)\n",
            "Collecting clean-text>=0.1.1\n",
            "  Downloading clean_text-0.4.0-py3-none-any.whl (9.8 kB)\n",
            "Collecting unidecode>=1.1.1\n",
            "  Downloading Unidecode-1.2.0-py2.py3-none-any.whl (241 kB)\n",
            "\u001b[K     |████████████████████████████████| 241 kB 71.9 MB/s \n",
            "\u001b[?25hCollecting emoji\n",
            "  Downloading emoji-1.4.1.tar.gz (185 kB)\n",
            "\u001b[K     |████████████████████████████████| 185 kB 74.3 MB/s \n",
            "\u001b[?25hCollecting ftfy<7.0,>=6.0\n",
            "  Downloading ftfy-6.0.3.tar.gz (64 kB)\n",
            "\u001b[K     |████████████████████████████████| 64 kB 2.6 MB/s \n",
            "\u001b[?25hRequirement already satisfied: wcwidth in /usr/local/lib/python3.7/dist-packages (from ftfy<7.0,>=6.0->clean-text>=0.1.1->convokit) (0.2.5)\n",
            "Requirement already satisfied: python-dateutil>=2.1 in /usr/local/lib/python3.7/dist-packages (from matplotlib>=3.0.0->convokit) (2.8.1)\n",
            "Requirement already satisfied: kiwisolver>=1.0.1 in /usr/local/lib/python3.7/dist-packages (from matplotlib>=3.0.0->convokit) (1.3.1)\n",
            "Requirement already satisfied: pyparsing!=2.0.4,!=2.1.2,!=2.1.6,>=2.0.1 in /usr/local/lib/python3.7/dist-packages (from matplotlib>=3.0.0->convokit) (2.4.7)\n",
            "Requirement already satisfied: cycler>=0.10 in /usr/local/lib/python3.7/dist-packages (from matplotlib>=3.0.0->convokit) (0.10.0)\n",
            "Requirement already satisfied: numpy>=1.11 in /usr/local/lib/python3.7/dist-packages (from matplotlib>=3.0.0->convokit) (1.19.5)\n",
            "Requirement already satisfied: six in /usr/local/lib/python3.7/dist-packages (from cycler>=0.10->matplotlib>=3.0.0->convokit) (1.15.0)\n",
            "Requirement already satisfied: msgpack>=0.5.2 in /usr/local/lib/python3.7/dist-packages (from msgpack-numpy>=0.4.3.2->convokit) (1.0.2)\n",
            "Requirement already satisfied: click in /usr/local/lib/python3.7/dist-packages (from nltk>=3.4->convokit) (7.1.2)\n",
            "Requirement already satisfied: tqdm in /usr/local/lib/python3.7/dist-packages (from nltk>=3.4->convokit) (4.41.1)\n",
            "Requirement already satisfied: regex in /usr/local/lib/python3.7/dist-packages (from nltk>=3.4->convokit) (2019.12.20)\n",
            "Requirement already satisfied: pytz>=2017.2 in /usr/local/lib/python3.7/dist-packages (from pandas>=0.23.4->convokit) (2018.9)\n",
            "Requirement already satisfied: blis<0.8.0,>=0.4.0 in /usr/local/lib/python3.7/dist-packages (from spacy>=2.3.5->convokit) (0.4.1)\n",
            "Collecting catalogue<2.1.0,>=2.0.4\n",
            "  Downloading catalogue-2.0.4-py3-none-any.whl (16 kB)\n",
            "Requirement already satisfied: setuptools in /usr/local/lib/python3.7/dist-packages (from spacy>=2.3.5->convokit) (57.2.0)\n",
            "Collecting pathy>=0.3.5\n",
            "  Downloading pathy-0.6.0-py3-none-any.whl (42 kB)\n",
            "\u001b[K     |████████████████████████████████| 42 kB 1.3 MB/s \n",
            "\u001b[?25hRequirement already satisfied: packaging>=20.0 in /usr/local/lib/python3.7/dist-packages (from spacy>=2.3.5->convokit) (21.0)\n",
            "Collecting thinc<8.1.0,>=8.0.8\n",
            "  Downloading thinc-8.0.8-cp37-cp37m-manylinux_2_17_x86_64.manylinux2014_x86_64.whl (621 kB)\n",
            "\u001b[K     |████████████████████████████████| 621 kB 39.9 MB/s \n",
            "\u001b[?25hRequirement already satisfied: murmurhash<1.1.0,>=0.28.0 in /usr/local/lib/python3.7/dist-packages (from spacy>=2.3.5->convokit) (1.0.5)\n",
            "Requirement already satisfied: wasabi<1.1.0,>=0.8.1 in /usr/local/lib/python3.7/dist-packages (from spacy>=2.3.5->convokit) (0.8.2)\n",
            "Requirement already satisfied: cymem<2.1.0,>=2.0.2 in /usr/local/lib/python3.7/dist-packages (from spacy>=2.3.5->convokit) (2.0.5)\n",
            "Requirement already satisfied: jinja2 in /usr/local/lib/python3.7/dist-packages (from spacy>=2.3.5->convokit) (2.11.3)\n",
            "Requirement already satisfied: preshed<3.1.0,>=3.0.2 in /usr/local/lib/python3.7/dist-packages (from spacy>=2.3.5->convokit) (3.0.5)\n",
            "Collecting spacy-legacy<3.1.0,>=3.0.7\n",
            "  Downloading spacy_legacy-3.0.8-py2.py3-none-any.whl (14 kB)\n",
            "Collecting pydantic!=1.8,!=1.8.1,<1.9.0,>=1.7.4\n",
            "  Downloading pydantic-1.8.2-cp37-cp37m-manylinux2014_x86_64.whl (10.1 MB)\n",
            "\u001b[K     |████████████████████████████████| 10.1 MB 51.2 MB/s \n",
            "\u001b[?25hRequirement already satisfied: typing-extensions<4.0.0.0,>=3.7.4 in /usr/local/lib/python3.7/dist-packages (from spacy>=2.3.5->convokit) (3.7.4.3)\n",
            "Requirement already satisfied: requests<3.0.0,>=2.13.0 in /usr/local/lib/python3.7/dist-packages (from spacy>=2.3.5->convokit) (2.23.0)\n",
            "Collecting srsly<3.0.0,>=2.4.1\n",
            "  Downloading srsly-2.4.1-cp37-cp37m-manylinux2014_x86_64.whl (456 kB)\n",
            "\u001b[K     |████████████████████████████████| 456 kB 60.5 MB/s \n",
            "\u001b[?25hCollecting typer<0.4.0,>=0.3.0\n",
            "  Downloading typer-0.3.2-py3-none-any.whl (21 kB)\n",
            "Requirement already satisfied: zipp>=0.5 in /usr/local/lib/python3.7/dist-packages (from catalogue<2.1.0,>=2.0.4->spacy>=2.3.5->convokit) (3.5.0)\n",
            "Requirement already satisfied: smart-open<6.0.0,>=5.0.0 in /usr/local/lib/python3.7/dist-packages (from pathy>=0.3.5->spacy>=2.3.5->convokit) (5.1.0)\n",
            "Requirement already satisfied: idna<3,>=2.5 in /usr/local/lib/python3.7/dist-packages (from requests<3.0.0,>=2.13.0->spacy>=2.3.5->convokit) (2.10)\n",
            "Requirement already satisfied: urllib3!=1.25.0,!=1.25.1,<1.26,>=1.21.1 in /usr/local/lib/python3.7/dist-packages (from requests<3.0.0,>=2.13.0->spacy>=2.3.5->convokit) (1.24.3)\n",
            "Requirement already satisfied: certifi>=2017.4.17 in /usr/local/lib/python3.7/dist-packages (from requests<3.0.0,>=2.13.0->spacy>=2.3.5->convokit) (2021.5.30)\n",
            "Requirement already satisfied: chardet<4,>=3.0.2 in /usr/local/lib/python3.7/dist-packages (from requests<3.0.0,>=2.13.0->spacy>=2.3.5->convokit) (3.0.4)\n",
            "Requirement already satisfied: MarkupSafe>=0.23 in /usr/local/lib/python3.7/dist-packages (from jinja2->spacy>=2.3.5->convokit) (2.0.1)\n",
            "Building wheels for collected packages: convokit, ftfy, emoji\n",
            "  Building wheel for convokit (setup.py) ... \u001b[?25l\u001b[?25hdone\n",
            "  Created wheel for convokit: filename=convokit-2.5-py3-none-any.whl size=187603 sha256=305428ec947ab7cf98f96a1b018b78a74f4379e99cb0173bc695caf70963b925\n",
            "  Stored in directory: /root/.cache/pip/wheels/6e/d2/0a/2f03ffd5e333520b9e2e4c899a857da56f2ecbf9e515bd2602\n",
            "  Building wheel for ftfy (setup.py) ... \u001b[?25l\u001b[?25hdone\n",
            "  Created wheel for ftfy: filename=ftfy-6.0.3-py3-none-any.whl size=41934 sha256=b4ccbc5bdaefd0775c9e3d55f244e56738aef7583a9d3f7163403871ffbf86f8\n",
            "  Stored in directory: /root/.cache/pip/wheels/19/f5/38/273eb3b5e76dfd850619312f693716ac4518b498f5ffb6f56d\n",
            "  Building wheel for emoji (setup.py) ... \u001b[?25l\u001b[?25hdone\n",
            "  Created wheel for emoji: filename=emoji-1.4.1-py3-none-any.whl size=186393 sha256=3e0b868912c39bf4e35a663eabd3579941ee9a586a7dfacdfe459ee966f38cfb\n",
            "  Stored in directory: /root/.cache/pip/wheels/8e/68/ac/537456a5331f1405779f2b3c2a578429d2f6d7419e440330d8\n",
            "Successfully built convokit ftfy emoji\n",
            "Installing collected packages: catalogue, typer, srsly, pydantic, thinc, spacy-legacy, pathy, ftfy, emoji, unidecode, spacy, nltk, msgpack-numpy, clean-text, convokit\n",
            "  Attempting uninstall: catalogue\n",
            "    Found existing installation: catalogue 1.0.0\n",
            "    Uninstalling catalogue-1.0.0:\n",
            "      Successfully uninstalled catalogue-1.0.0\n",
            "  Attempting uninstall: srsly\n",
            "    Found existing installation: srsly 1.0.5\n",
            "    Uninstalling srsly-1.0.5:\n",
            "      Successfully uninstalled srsly-1.0.5\n",
            "  Attempting uninstall: thinc\n",
            "    Found existing installation: thinc 7.4.0\n",
            "    Uninstalling thinc-7.4.0:\n",
            "      Successfully uninstalled thinc-7.4.0\n",
            "  Attempting uninstall: spacy\n",
            "    Found existing installation: spacy 2.2.4\n",
            "    Uninstalling spacy-2.2.4:\n",
            "      Successfully uninstalled spacy-2.2.4\n",
            "  Attempting uninstall: nltk\n",
            "    Found existing installation: nltk 3.2.5\n",
            "    Uninstalling nltk-3.2.5:\n",
            "      Successfully uninstalled nltk-3.2.5\n",
            "Successfully installed catalogue-2.0.4 clean-text-0.4.0 convokit-2.5 emoji-1.4.1 ftfy-6.0.3 msgpack-numpy-0.4.7.1 nltk-3.6.2 pathy-0.6.0 pydantic-1.8.2 spacy-3.1.1 spacy-legacy-3.0.8 srsly-2.4.1 thinc-8.0.8 typer-0.3.2 unidecode-1.2.0\n"
          ],
          "name": "stdout"
        },
        {
          "output_type": "display_data",
          "data": {
            "application/vnd.colab-display-data+json": {
              "pip_warning": {
                "packages": [
                  "nltk"
                ]
              }
            }
          },
          "metadata": {
            "tags": []
          }
        }
      ]
    },
    {
      "cell_type": "markdown",
      "metadata": {
        "id": "WIDud31zMirS"
      },
      "source": [
        "We'll just use the nltk tokenizers to segment into sentences and tokens."
      ]
    },
    {
      "cell_type": "code",
      "metadata": {
        "colab": {
          "base_uri": "https://localhost:8080/"
        },
        "id": "eP-wIrM4VKM7",
        "outputId": "1ae8e531-675e-437a-b717-cd3202f76829"
      },
      "source": [
        "import nltk\n",
        "from nltk.tokenize import sent_tokenize, word_tokenize\n",
        "nltk.download('punkt')"
      ],
      "execution_count": null,
      "outputs": [
        {
          "output_type": "stream",
          "text": [
            "[nltk_data] Downloading package punkt to /root/nltk_data...\n",
            "[nltk_data]   Package punkt is already up-to-date!\n"
          ],
          "name": "stdout"
        },
        {
          "output_type": "execute_result",
          "data": {
            "text/plain": [
              "True"
            ]
          },
          "metadata": {
            "tags": []
          },
          "execution_count": 5
        }
      ]
    },
    {
      "cell_type": "markdown",
      "metadata": {
        "id": "b-XNgRitMovA"
      },
      "source": [
        "Download the corpus"
      ]
    },
    {
      "cell_type": "code",
      "metadata": {
        "id": "h-2H6qf2SRxL"
      },
      "source": [
        "from convokit import Corpus, download"
      ],
      "execution_count": null,
      "outputs": []
    },
    {
      "cell_type": "code",
      "metadata": {
        "colab": {
          "base_uri": "https://localhost:8080/"
        },
        "id": "GWHShYy_S87X",
        "outputId": "d65f5dd5-fceb-4c57-8922-cac97472eacd"
      },
      "source": [
        "corpus = Corpus(filename=download(\"parliament-corpus\"))"
      ],
      "execution_count": null,
      "outputs": [
        {
          "output_type": "stream",
          "text": [
            "Downloading parliament-corpus to /root/.convokit/downloads/parliament-corpus\n",
            "Downloading parliament-corpus from http://zissou.infosci.cornell.edu/convokit/datasets/parliament-corpus/parliament-corpus.zip (368.2MB)... Done\n"
          ],
          "name": "stdout"
        }
      ]
    },
    {
      "cell_type": "code",
      "metadata": {
        "colab": {
          "base_uri": "https://localhost:8080/"
        },
        "id": "8qH4C22lTN-e",
        "outputId": "d02b6f93-83ea-4832-d83c-f335ab47f868"
      },
      "source": [
        "corpus.print_summary_stats()"
      ],
      "execution_count": null,
      "outputs": [
        {
          "output_type": "stream",
          "text": [
            "Number of Speakers: 1978\n",
            "Number of Utterances: 433787\n",
            "Number of Conversations: 216894\n"
          ],
          "name": "stdout"
        }
      ]
    },
    {
      "cell_type": "markdown",
      "metadata": {
        "id": "RTBmXmG9Mwcw"
      },
      "source": [
        "Let's look at the first utterance."
      ]
    },
    {
      "cell_type": "code",
      "metadata": {
        "colab": {
          "base_uri": "https://localhost:8080/"
        },
        "id": "flNbncFyT5m6",
        "outputId": "d8a0bbc7-bf7b-415e-ad2b-30f2af7479e4"
      },
      "source": [
        "for utt in corpus.iter_utterances():\n",
        "    print(utt.text)\n",
        "    break"
      ],
      "execution_count": null,
      "outputs": [
        {
          "output_type": "stream",
          "text": [
            "I thank the Minister for his response . He will be aware that the Northern Ireland Policing Board and the Chief Constable are concerned about a possible reduction in the police budget in the forthcoming financial year , and that there are increasing pressures on the budget as a result of policing the past , the ongoing inquiries , and the cost of the legal advice that the police need to secure in order to participate in them . However , does he agree that it is right that the Government provide adequate funding for the ordinary policing in the community that tackles all the matters that concern the people of Northern Ireland ? Does he accept that there should not be a reduction in the police budget , given the increasing costs of the inquiries that I have mentioned ? Will the Government do something to reduce the cost of the inquiries , and ensure that adequate policing is provided for all the victims of crime in Northern Ireland ?\n"
          ],
          "name": "stdout"
        }
      ]
    },
    {
      "cell_type": "markdown",
      "metadata": {
        "id": "xp_8lT46Mzj1"
      },
      "source": [
        "Let's look at how the tokenizer works for the first utterance."
      ]
    },
    {
      "cell_type": "code",
      "metadata": {
        "colab": {
          "base_uri": "https://localhost:8080/"
        },
        "id": "BsH8k9vF5LQz",
        "outputId": "ccb7d9f0-b656-44ba-f860-7570f927f3b1"
      },
      "source": [
        "for utt in corpus.iter_utterances():\n",
        "    print( [word_tokenize(t) for t in sent_tokenize(utt.text)])\n",
        "    break"
      ],
      "execution_count": null,
      "outputs": [
        {
          "output_type": "stream",
          "text": [
            "[['I', 'thank', 'the', 'Minister', 'for', 'his', 'response', '.'], ['He', 'will', 'be', 'aware', 'that', 'the', 'Northern', 'Ireland', 'Policing', 'Board', 'and', 'the', 'Chief', 'Constable', 'are', 'concerned', 'about', 'a', 'possible', 'reduction', 'in', 'the', 'police', 'budget', 'in', 'the', 'forthcoming', 'financial', 'year', ',', 'and', 'that', 'there', 'are', 'increasing', 'pressures', 'on', 'the', 'budget', 'as', 'a', 'result', 'of', 'policing', 'the', 'past', ',', 'the', 'ongoing', 'inquiries', ',', 'and', 'the', 'cost', 'of', 'the', 'legal', 'advice', 'that', 'the', 'police', 'need', 'to', 'secure', 'in', 'order', 'to', 'participate', 'in', 'them', '.'], ['However', ',', 'does', 'he', 'agree', 'that', 'it', 'is', 'right', 'that', 'the', 'Government', 'provide', 'adequate', 'funding', 'for', 'the', 'ordinary', 'policing', 'in', 'the', 'community', 'that', 'tackles', 'all', 'the', 'matters', 'that', 'concern', 'the', 'people', 'of', 'Northern', 'Ireland', '?'], ['Does', 'he', 'accept', 'that', 'there', 'should', 'not', 'be', 'a', 'reduction', 'in', 'the', 'police', 'budget', ',', 'given', 'the', 'increasing', 'costs', 'of', 'the', 'inquiries', 'that', 'I', 'have', 'mentioned', '?'], ['Will', 'the', 'Government', 'do', 'something', 'to', 'reduce', 'the', 'cost', 'of', 'the', 'inquiries', ',', 'and', 'ensure', 'that', 'adequate', 'policing', 'is', 'provided', 'for', 'all', 'the', 'victims', 'of', 'crime', 'in', 'Northern', 'Ireland', '?']]\n"
          ],
          "name": "stdout"
        }
      ]
    },
    {
      "cell_type": "markdown",
      "metadata": {
        "id": "JUrQAcZ6U6Bw"
      },
      "source": [
        "Generate the sentence tokens, and the word tokens within them. This took ~ 5 minutes, given 430,000 utterances."
      ]
    },
    {
      "cell_type": "code",
      "metadata": {
        "id": "UEEW9D1C9NAo"
      },
      "source": [
        "sents = []\n",
        "for utt in corpus.iter_utterances():\n",
        "    sents.append([word_tokenize(t) for t in sent_tokenize(utt.text)])"
      ],
      "execution_count": null,
      "outputs": []
    },
    {
      "cell_type": "code",
      "metadata": {
        "colab": {
          "base_uri": "https://localhost:8080/"
        },
        "id": "h-THHCld6odo",
        "outputId": "989e2805-1f48-4f43-ee46-61d61e4153f7"
      },
      "source": [
        "len(sents)"
      ],
      "execution_count": null,
      "outputs": [
        {
          "output_type": "execute_result",
          "data": {
            "text/plain": [
              "433787"
            ]
          },
          "metadata": {
            "tags": []
          },
          "execution_count": 13
        }
      ]
    },
    {
      "cell_type": "code",
      "metadata": {
        "colab": {
          "base_uri": "https://localhost:8080/"
        },
        "id": "jGSiRF8xHzuw",
        "outputId": "bf6a6b54-f035-4807-e2cc-5eb93c37dd56"
      },
      "source": [
        "sents[0]"
      ],
      "execution_count": null,
      "outputs": [
        {
          "output_type": "execute_result",
          "data": {
            "text/plain": [
              "[['I', 'thank', 'the', 'Minister', 'for', 'his', 'response', '.'],\n",
              " ['He',\n",
              "  'will',\n",
              "  'be',\n",
              "  'aware',\n",
              "  'that',\n",
              "  'the',\n",
              "  'Northern',\n",
              "  'Ireland',\n",
              "  'Policing',\n",
              "  'Board',\n",
              "  'and',\n",
              "  'the',\n",
              "  'Chief',\n",
              "  'Constable',\n",
              "  'are',\n",
              "  'concerned',\n",
              "  'about',\n",
              "  'a',\n",
              "  'possible',\n",
              "  'reduction',\n",
              "  'in',\n",
              "  'the',\n",
              "  'police',\n",
              "  'budget',\n",
              "  'in',\n",
              "  'the',\n",
              "  'forthcoming',\n",
              "  'financial',\n",
              "  'year',\n",
              "  ',',\n",
              "  'and',\n",
              "  'that',\n",
              "  'there',\n",
              "  'are',\n",
              "  'increasing',\n",
              "  'pressures',\n",
              "  'on',\n",
              "  'the',\n",
              "  'budget',\n",
              "  'as',\n",
              "  'a',\n",
              "  'result',\n",
              "  'of',\n",
              "  'policing',\n",
              "  'the',\n",
              "  'past',\n",
              "  ',',\n",
              "  'the',\n",
              "  'ongoing',\n",
              "  'inquiries',\n",
              "  ',',\n",
              "  'and',\n",
              "  'the',\n",
              "  'cost',\n",
              "  'of',\n",
              "  'the',\n",
              "  'legal',\n",
              "  'advice',\n",
              "  'that',\n",
              "  'the',\n",
              "  'police',\n",
              "  'need',\n",
              "  'to',\n",
              "  'secure',\n",
              "  'in',\n",
              "  'order',\n",
              "  'to',\n",
              "  'participate',\n",
              "  'in',\n",
              "  'them',\n",
              "  '.'],\n",
              " ['However',\n",
              "  ',',\n",
              "  'does',\n",
              "  'he',\n",
              "  'agree',\n",
              "  'that',\n",
              "  'it',\n",
              "  'is',\n",
              "  'right',\n",
              "  'that',\n",
              "  'the',\n",
              "  'Government',\n",
              "  'provide',\n",
              "  'adequate',\n",
              "  'funding',\n",
              "  'for',\n",
              "  'the',\n",
              "  'ordinary',\n",
              "  'policing',\n",
              "  'in',\n",
              "  'the',\n",
              "  'community',\n",
              "  'that',\n",
              "  'tackles',\n",
              "  'all',\n",
              "  'the',\n",
              "  'matters',\n",
              "  'that',\n",
              "  'concern',\n",
              "  'the',\n",
              "  'people',\n",
              "  'of',\n",
              "  'Northern',\n",
              "  'Ireland',\n",
              "  '?'],\n",
              " ['Does',\n",
              "  'he',\n",
              "  'accept',\n",
              "  'that',\n",
              "  'there',\n",
              "  'should',\n",
              "  'not',\n",
              "  'be',\n",
              "  'a',\n",
              "  'reduction',\n",
              "  'in',\n",
              "  'the',\n",
              "  'police',\n",
              "  'budget',\n",
              "  ',',\n",
              "  'given',\n",
              "  'the',\n",
              "  'increasing',\n",
              "  'costs',\n",
              "  'of',\n",
              "  'the',\n",
              "  'inquiries',\n",
              "  'that',\n",
              "  'I',\n",
              "  'have',\n",
              "  'mentioned',\n",
              "  '?'],\n",
              " ['Will',\n",
              "  'the',\n",
              "  'Government',\n",
              "  'do',\n",
              "  'something',\n",
              "  'to',\n",
              "  'reduce',\n",
              "  'the',\n",
              "  'cost',\n",
              "  'of',\n",
              "  'the',\n",
              "  'inquiries',\n",
              "  ',',\n",
              "  'and',\n",
              "  'ensure',\n",
              "  'that',\n",
              "  'adequate',\n",
              "  'policing',\n",
              "  'is',\n",
              "  'provided',\n",
              "  'for',\n",
              "  'all',\n",
              "  'the',\n",
              "  'victims',\n",
              "  'of',\n",
              "  'crime',\n",
              "  'in',\n",
              "  'Northern',\n",
              "  'Ireland',\n",
              "  '?']]"
            ]
          },
          "metadata": {
            "tags": []
          },
          "execution_count": 14
        }
      ]
    },
    {
      "cell_type": "markdown",
      "metadata": {
        "id": "KxTHaAgPVNho"
      },
      "source": [
        "That's the first document/utterance, a list of lists (each sentence is a list of tokens). That means sents is organized as a list of lists of lists. Word2Vec wants a list of lists (the tokens by sentence, without distinguishing between the utterances in which they are used). So, we flatten the list (to a list of sentences, each a list of tokens)."
      ]
    },
    {
      "cell_type": "code",
      "metadata": {
        "id": "HqZrugUSN5cD"
      },
      "source": [
        "flat_sents_list = [sentence for utt in sents for sentence in utt] # for every utterance, loop over its sentences and add them to the list"
      ],
      "execution_count": null,
      "outputs": []
    },
    {
      "cell_type": "code",
      "metadata": {
        "colab": {
          "base_uri": "https://localhost:8080/"
        },
        "id": "_Fi0uuGzW4fh",
        "outputId": "42aa3194-397e-45e4-fe70-2b5a1901511e"
      },
      "source": [
        "len(flat_sents_list)"
      ],
      "execution_count": null,
      "outputs": [
        {
          "output_type": "execute_result",
          "data": {
            "text/plain": [
              "1354489"
            ]
          },
          "metadata": {
            "tags": []
          },
          "execution_count": 16
        }
      ]
    },
    {
      "cell_type": "markdown",
      "metadata": {
        "id": "zxu2thVkqslh"
      },
      "source": [
        "1.35 million sentences."
      ]
    },
    {
      "cell_type": "markdown",
      "metadata": {
        "id": "7Ab0VL27M9cz"
      },
      "source": [
        "For demonstration purposes, I'm also going to estimate embeddings based on the utterance as a unit -- that is, ignoring the sentence boundaries within utterances."
      ]
    },
    {
      "cell_type": "code",
      "metadata": {
        "id": "H-RLx0toZWnl"
      },
      "source": [
        "flat_utts_list =[]\n",
        "for utt in sents:\n",
        "    utt_token_list_i = []\n",
        "    for sentence in utt:\n",
        "        for token in sentence:\n",
        "            utt_token_list_i.append(token)\n",
        "    flat_utts_list.append(utt_token_list_i)\n",
        ""
      ],
      "execution_count": null,
      "outputs": []
    },
    {
      "cell_type": "code",
      "metadata": {
        "colab": {
          "base_uri": "https://localhost:8080/"
        },
        "id": "u0KPAZMai8OG",
        "outputId": "c5c46a61-806a-4371-be98-2d884ce1c62d"
      },
      "source": [
        "len(flat_utts_list)"
      ],
      "execution_count": null,
      "outputs": [
        {
          "output_type": "execute_result",
          "data": {
            "text/plain": [
              "433787"
            ]
          },
          "metadata": {
            "tags": []
          },
          "execution_count": 20
        }
      ]
    },
    {
      "cell_type": "markdown",
      "metadata": {
        "id": "AFpCjdSwNKhu"
      },
      "source": [
        "430,000 utterances"
      ]
    },
    {
      "cell_type": "markdown",
      "metadata": {
        "id": "X55IdhZbNObm"
      },
      "source": [
        "First, we'll estimate word2vec embeddings."
      ]
    },
    {
      "cell_type": "code",
      "metadata": {
        "id": "N6Tvv8w9IHiX"
      },
      "source": [
        "import gensim\n",
        "from gensim.models import Word2Vec"
      ],
      "execution_count": null,
      "outputs": []
    },
    {
      "cell_type": "markdown",
      "metadata": {
        "id": "JwP_CUH_V77e"
      },
      "source": [
        "Estimate the word2vec model. I used the default dimensionality of 100, but note that the documentation indicates the parameter is `vector_size` but that generates an error and it's apparently supposed to be `size`. I set the context window at 5 -- I'll estimate with other windows below. The min_count of token frequency defaults to 1, but I set it at 5, which will probably give too much noise. According to the gensim docs, a random seed is always set to 1, but to ensure replicability, you need to use only one worker/thread, which I think is all Google Colab will give anyway."
      ]
    },
    {
      "cell_type": "code",
      "metadata": {
        "id": "9SntK0q0KfHm"
      },
      "source": [
        "model_w5 = Word2Vec(sentences=flat_sents_list, size=100, window=5, min_count=5, workers=1)\n",
        "model_w5.save(\"w5_word2vec.model\")"
      ],
      "execution_count": null,
      "outputs": []
    },
    {
      "cell_type": "markdown",
      "metadata": {
        "id": "gFaqh8DuNWWi"
      },
      "source": [
        "Now let's see what words are near each other. We see that \"Health\" seems to be close to other words that might appear in a Bill name or ministerial title."
      ]
    },
    {
      "cell_type": "code",
      "metadata": {
        "colab": {
          "base_uri": "https://localhost:8080/"
        },
        "id": "EvXzrgtdPNkG",
        "outputId": "213b77ff-369d-4856-b1e2-a20da6b0d0b0"
      },
      "source": [
        "model_w5.wv.most_similar(\"Health\")"
      ],
      "execution_count": null,
      "outputs": [
        {
          "output_type": "execute_result",
          "data": {
            "text/plain": [
              "[('Employment', 0.7970755696296692),\n",
              " ('Prison', 0.7514294385910034),\n",
              " ('Insolvency', 0.7355092167854309),\n",
              " ('Forensic', 0.730955958366394),\n",
              " ('Admissions', 0.7161792516708374),\n",
              " ('Hygiene', 0.7037978768348694),\n",
              " ('Tribunals', 0.7024190425872803),\n",
              " ('Education', 0.7023796439170837),\n",
              " ('Arbitration', 0.6996345520019531),\n",
              " ('Civil', 0.6982778310775757)]"
            ]
          },
          "metadata": {
            "tags": []
          },
          "execution_count": 23
        }
      ]
    },
    {
      "cell_type": "markdown",
      "metadata": {
        "id": "vgCkfw5HNlpt"
      },
      "source": [
        "Whereas \"health\" appears near some semi-antonyms, \"handicap\" \"illness\", some words in the same \"semantic field\" like \"ambulance\" and one that is probably a type that appears in the same contexts, \"heath\"."
      ]
    },
    {
      "cell_type": "code",
      "metadata": {
        "colab": {
          "base_uri": "https://localhost:8080/"
        },
        "id": "hArVKq6wQAD1",
        "outputId": "488d3958-74b0-4d85-8759-ffc71cd3c8f5"
      },
      "source": [
        "model_w5.wv.most_similar(\"health\")"
      ],
      "execution_count": null,
      "outputs": [
        {
          "output_type": "execute_result",
          "data": {
            "text/plain": [
              "[('handicap', 0.6909031271934509),\n",
              " ('heath', 0.6892922520637512),\n",
              " ('probation', 0.657379150390625),\n",
              " ('library', 0.6404056549072266),\n",
              " ('Connexions', 0.6196255683898926),\n",
              " ('illness', 0.5970158576965332),\n",
              " ('healthcare', 0.5818458795547485),\n",
              " ('ambulance', 0.5649657845497131),\n",
              " ('sleeper', 0.5576682090759277),\n",
              " ('fire', 0.5518134236335754)]"
            ]
          },
          "metadata": {
            "tags": []
          },
          "execution_count": 24
        }
      ]
    },
    {
      "cell_type": "markdown",
      "metadata": {
        "id": "54KJAKL0OD5Q"
      },
      "source": [
        "Analogy terrible because the content is different. (Man is to woman, as king is to ____.)"
      ]
    },
    {
      "cell_type": "code",
      "metadata": {
        "colab": {
          "base_uri": "https://localhost:8080/"
        },
        "id": "q-GnHgW-QLwp",
        "outputId": "abbf5f49-136c-4b19-a728-02e7a76d8970"
      },
      "source": [
        "model_w5.wv.most_similar(positive=[\"woman\",\"king\"],negative=[\"man\"])"
      ],
      "execution_count": null,
      "outputs": [
        {
          "output_type": "execute_result",
          "data": {
            "text/plain": [
              "[('smeared', 0.6176314353942871),\n",
              " ('Savoy', 0.5986084938049316),\n",
              " ('Morar', 0.5834002494812012),\n",
              " ('widower', 0.5790548920631409),\n",
              " ('actress', 0.5770367980003357),\n",
              " ('Somebody', 0.5766399502754211),\n",
              " ('Guernsey', 0.5654338002204895),\n",
              " ('rescinded', 0.5651736259460449),\n",
              " ('saint', 0.564697802066803),\n",
              " ('Toynbee', 0.5635542869567871)]"
            ]
          },
          "metadata": {
            "tags": []
          },
          "execution_count": 25
        }
      ]
    },
    {
      "cell_type": "code",
      "metadata": {
        "id": "C9eWGggJOJss"
      },
      "source": [
        "Demonstrate some bias."
      ],
      "execution_count": null,
      "outputs": []
    },
    {
      "cell_type": "code",
      "metadata": {
        "colab": {
          "base_uri": "https://localhost:8080/"
        },
        "id": "6EHjaWj1Q6ie",
        "outputId": "010f9ce5-a316-440e-af08-e083112b9a1d"
      },
      "source": [
        "model_w5.wv.most_similar(positive=[\"woman\",\"doctor\"],negative=[\"man\"])"
      ],
      "execution_count": null,
      "outputs": [
        {
          "output_type": "execute_result",
          "data": {
            "text/plain": [
              "[('consultant', 0.7182506322860718),\n",
              " ('nurse', 0.6894434690475464),\n",
              " ('surgeon', 0.6211944222450256),\n",
              " ('GP', 0.6173958778381348),\n",
              " ('fundholder', 0.6087609529495239),\n",
              " ('mother', 0.602313220500946),\n",
              " ('youngster', 0.5968934297561646),\n",
              " ('dies', 0.5842279195785522),\n",
              " ('parent', 0.5797257423400879),\n",
              " ('magistrate', 0.5774949789047241)]"
            ]
          },
          "metadata": {
            "tags": []
          },
          "execution_count": 26
        }
      ]
    },
    {
      "cell_type": "code",
      "metadata": {
        "colab": {
          "base_uri": "https://localhost:8080/"
        },
        "id": "AT6TXy8sRDvL",
        "outputId": "f487f295-ba57-4ae2-a35d-ab7b4b086fe8"
      },
      "source": [
        "model_w5.wv.most_similar(positive=[\"she\",\"doctor\"],negative=[\"he\"])"
      ],
      "execution_count": null,
      "outputs": [
        {
          "output_type": "execute_result",
          "data": {
            "text/plain": [
              "[('consultant', 0.7850918173789978),\n",
              " ('nurse', 0.7685425877571106),\n",
              " ('woman', 0.7114043235778809),\n",
              " ('surgeon', 0.6848577260971069),\n",
              " ('husband', 0.6666815280914307),\n",
              " ('mother', 0.6665246486663818),\n",
              " ('GP', 0.6583184003829956),\n",
              " ('youngster', 0.6568658351898193),\n",
              " ('miner', 0.6477780342102051),\n",
              " ('father', 0.6459667682647705)]"
            ]
          },
          "metadata": {
            "tags": []
          },
          "execution_count": 27
        }
      ]
    },
    {
      "cell_type": "code",
      "metadata": {
        "colab": {
          "base_uri": "https://localhost:8080/"
        },
        "id": "7o4g1AzaRKa8",
        "outputId": "1efc1443-7e8f-4921-f95b-1765e8d16904"
      },
      "source": [
        "model_w5.wv.most_similar(positive=[\"U.K.\",\"Paris\"],negative=[\"London\"])"
      ],
      "execution_count": null,
      "outputs": [
        {
          "output_type": "execute_result",
          "data": {
            "text/plain": [
              "[('Vienna', 0.6112646460533142),\n",
              " ('Geneva', 0.6019253730773926),\n",
              " ('Stockholm', 0.5957514047622681),\n",
              " ('Madrid', 0.5869588255882263),\n",
              " ('Montreal', 0.5740936994552612),\n",
              " ('Copenhagen', 0.5678501725196838),\n",
              " ('Aires', 0.5671983957290649),\n",
              " ('Tokyo', 0.5670187473297119),\n",
              " ('Rio', 0.564266562461853),\n",
              " ('Durban', 0.5633161067962646)]"
            ]
          },
          "metadata": {
            "tags": []
          },
          "execution_count": 28
        }
      ]
    },
    {
      "cell_type": "code",
      "metadata": {
        "id": "aLqDhhELSu7v"
      },
      "source": [
        "import numpy as np\n",
        "from sklearn.cluster import KMeans"
      ],
      "execution_count": null,
      "outputs": []
    },
    {
      "cell_type": "code",
      "metadata": {
        "id": "Uhhoh29td5LZ"
      },
      "source": [
        "wv_w5 = model_w5.wv"
      ],
      "execution_count": null,
      "outputs": []
    },
    {
      "cell_type": "code",
      "metadata": {
        "id": "-lNXQUO6hPa2"
      },
      "source": [
        "# extract the words & their vectors, as numpy arrays\n",
        "vectors_w5 = np.asarray(model_w5.wv.vectors)\n",
        "#labels_w5 = np.asarray(model_w5.wv.index_to_key)  # fixed-width numpy strings # error, indicating I am not working with gensim 4.0\n",
        "labels_w5 = np.asarray(model_w5.wv.index2word)  # fixed-width numpy strings\n"
      ],
      "execution_count": null,
      "outputs": []
    },
    {
      "cell_type": "code",
      "metadata": {
        "colab": {
          "base_uri": "https://localhost:8080/"
        },
        "id": "cAB-cDsGiIRl",
        "outputId": "e1123ea8-77ce-4a43-8993-4e538740748f"
      },
      "source": [
        "vectors_w5.shape"
      ],
      "execution_count": null,
      "outputs": [
        {
          "output_type": "execute_result",
          "data": {
            "text/plain": [
              "(41235, 100)"
            ]
          },
          "metadata": {
            "tags": []
          },
          "execution_count": 32
        }
      ]
    },
    {
      "cell_type": "code",
      "metadata": {
        "colab": {
          "base_uri": "https://localhost:8080/"
        },
        "id": "LZotbWIIkAx3",
        "outputId": "b7461f95-4b6b-481e-ad92-0e63bdbf52ca"
      },
      "source": [
        "kmeans_w5_20 = KMeans(n_clusters=20)\n",
        "kmeans_w5_20.fit(vectors_w5)"
      ],
      "execution_count": null,
      "outputs": [
        {
          "output_type": "execute_result",
          "data": {
            "text/plain": [
              "KMeans(algorithm='auto', copy_x=True, init='k-means++', max_iter=300,\n",
              "       n_clusters=20, n_init=10, n_jobs=None, precompute_distances='auto',\n",
              "       random_state=None, tol=0.0001, verbose=0)"
            ]
          },
          "metadata": {
            "tags": []
          },
          "execution_count": 35
        }
      ]
    },
    {
      "cell_type": "code",
      "metadata": {
        "colab": {
          "base_uri": "https://localhost:8080/"
        },
        "id": "S3-8jBkbkmqO",
        "outputId": "0c264416-da3c-4958-db82-e8321e164237"
      },
      "source": [
        "kmeans_w5_20.labels_.shape"
      ],
      "execution_count": null,
      "outputs": [
        {
          "output_type": "execute_result",
          "data": {
            "text/plain": [
              "(41235,)"
            ]
          },
          "metadata": {
            "tags": []
          },
          "execution_count": 36
        }
      ]
    },
    {
      "cell_type": "code",
      "metadata": {
        "colab": {
          "base_uri": "https://localhost:8080/"
        },
        "id": "MNz43RmGn3Au",
        "outputId": "eba52940-c5a6-4fcc-845e-dd28b431b4d5"
      },
      "source": [
        "kmeans_w5_20.cluster_centers_.shape"
      ],
      "execution_count": null,
      "outputs": [
        {
          "output_type": "execute_result",
          "data": {
            "text/plain": [
              "(20, 100)"
            ]
          },
          "metadata": {
            "tags": []
          },
          "execution_count": 37
        }
      ]
    },
    {
      "cell_type": "code",
      "metadata": {
        "colab": {
          "base_uri": "https://localhost:8080/"
        },
        "id": "Hux8G39TnWqQ",
        "outputId": "4a822be9-3c80-44ba-970c-558a3c5d46f9"
      },
      "source": [
        "model_w5.wv.most_similar([kmeans_w5_20.cluster_centers_[0]])\n"
      ],
      "execution_count": null,
      "outputs": [
        {
          "output_type": "execute_result",
          "data": {
            "text/plain": [
              "[('intimidation', 0.7995998859405518),\n",
              " ('brutality', 0.7892245650291443),\n",
              " ('harassment', 0.7723098993301392),\n",
              " ('carnage', 0.7582762241363525),\n",
              " ('killing', 0.7519361972808838),\n",
              " ('atrocity', 0.7478464841842651),\n",
              " ('cruelty', 0.740993857383728),\n",
              " ('vandalism', 0.7406712174415588),\n",
              " ('shootings', 0.7402580976486206),\n",
              " ('killings', 0.7394987344741821)]"
            ]
          },
          "metadata": {
            "tags": []
          },
          "execution_count": 38
        }
      ]
    },
    {
      "cell_type": "markdown",
      "metadata": {
        "id": "CIc6Kx1sOVUf"
      },
      "source": [
        "Groupings of words in embedding space"
      ]
    },
    {
      "cell_type": "code",
      "metadata": {
        "colab": {
          "base_uri": "https://localhost:8080/"
        },
        "id": "EG1Ik55Mo-29",
        "outputId": "22dcb18e-8b12-49be-fcf4-56fddbf9f63b"
      },
      "source": [
        "for k in range(20):\n",
        "  print(model_w5.wv.most_similar([kmeans_w5_20.cluster_centers_[k]]))"
      ],
      "execution_count": null,
      "outputs": [
        {
          "output_type": "stream",
          "text": [
            "[('intimidation', 0.7995998859405518), ('brutality', 0.7892245650291443), ('harassment', 0.7723098993301392), ('carnage', 0.7582762241363525), ('killing', 0.7519361972808838), ('atrocity', 0.7478464841842651), ('cruelty', 0.740993857383728), ('vandalism', 0.7406712174415588), ('shootings', 0.7402580976486206), ('killings', 0.7394987344741821)]\n",
            "[('ceiling', 0.7272655367851257), ('allowances', 0.7228348255157471), ('rebates', 0.721989095211029), ('earnings', 0.7205761671066284), ('bill', 0.7182183861732483), ('RPI', 0.716900646686554), ('income', 0.7104346752166748), ('repayment', 0.7041734457015991), ('threshold', 0.702938437461853), ('rents', 0.6906894445419312)]\n",
            "[('rehabilitation', 0.6446601152420044), ('recreational', 0.6368625164031982), ('mentoring', 0.6151845455169678), ('enhancing', 0.615145206451416), ('specialist', 0.6112948656082153), ('developing', 0.6082404255867004), ('coaching', 0.6054713129997253), ('specialised', 0.5992040634155273), ('physical', 0.5985680818557739), ('improving', 0.598386824131012)]\n",
            "[('vision', 0.6957899928092957), ('competence', 0.6729511618614197), ('dimension', 0.663412868976593), ('ambitions', 0.655082106590271), ('policy', 0.6440302133560181), ('image', 0.6369702816009521), ('element', 0.6308327913284302), ('character', 0.627504825592041), ('ambition', 0.624772846698761), ('achievement', 0.624755322933197)]\n",
            "[('contribute', 0.8041762113571167), ('pursue', 0.7856737375259399), ('dictate', 0.7856172919273376), ('deliver', 0.7782530784606934), ('apply', 0.7696040868759155), ('retain', 0.7655812501907349), ('sustain', 0.7651855945587158), ('organise', 0.7610561847686768), ('extend', 0.7593318819999695), ('obtain', 0.7577846050262451)]\n",
            "[('October', 0.8551942706108093), ('November', 0.8450335264205933), ('August', 0.8369394540786743), ('September', 0.8213250637054443), ('July', 0.8207600116729736), ('June', 0.8191598057746887), ('February', 0.8065558671951294), ('December', 0.8001673817634583), ('March', 0.7945401668548584), ('April', 0.7873210310935974)]\n",
            "[('timber', 0.847571074962616), ('liquid', 0.8254666328430176), ('engines', 0.8137816190719604), ('manufacture', 0.8108172416687012), ('diesel', 0.8022853136062622), ('components', 0.786375105381012), ('chemicals', 0.78547203540802), ('electrical', 0.7693729400634766), ('cheese', 0.7571359872817993), ('production', 0.7569583058357239)]\n",
            "[('Management', 0.8948014378547668), ('Standards', 0.8771805167198181), ('Advisory', 0.872035801410675), ('Consumer', 0.8606146574020386), ('Industrial', 0.8572821617126465), ('Technology', 0.8509583473205566), ('Veterinary', 0.8505003452301025), ('Educational', 0.8435317277908325), ('Unit', 0.8417779803276062), ('Personnel', 0.8410900831222534)]\n",
            "[('Croatia', 0.8783397674560547), ('Russia', 0.8774356842041016), ('Serbia', 0.8767197132110596), ('Ukraine', 0.8714824318885803), ('Syria', 0.8576728105545044), ('Turkey', 0.8565315008163452), ('Libya', 0.8553606271743774), ('Lebanon', 0.848512589931488), ('Angola', 0.8438349962234497), ('Iran', 0.8426084518432617)]\n",
            "[('Trevor', 0.8926239013671875), ('Hugh', 0.892220139503479), ('Steve', 0.8886133432388306), ('Sheila', 0.8771591186523438), ('Janet', 0.8743273019790649), ('Cochrane', 0.8732793927192688), ('Bell', 0.8723388314247131), ('Anderson', 0.872118353843689), ('Edwards', 0.871313214302063), ('Howard', 0.8710595369338989)]\n",
            "[('remind', 0.8691039085388184), ('warn', 0.7918541431427002), ('suggest', 0.7843468189239502), ('appreciate', 0.7735384106636047), ('tell', 0.7669072151184082), ('reassure', 0.7638213634490967), ('acknowledge', 0.761746883392334), ('concede', 0.7593698501586914), ('know', 0.7533385157585144), ('accept', 0.7503951191902161)]\n",
            "[('32', 0.9033569097518921), ('38', 0.9009532928466797), ('33', 0.8976156711578369), ('45', 0.8961957097053528), ('46', 0.8951313495635986), ('35', 0.8941504955291748), ('36', 0.8915963172912598), ('52', 0.8905133605003357), ('42', 0.8893278241157532), ('56', 0.888177752494812)]\n",
            "[('branches', 0.7208576202392578), ('treatments', 0.7117862701416016), ('avenues', 0.7093815803527832), ('premises', 0.7041013240814209), ('units', 0.7038724422454834), ('posts', 0.7033753395080566), ('institutions', 0.7025306224822998), ('occupations', 0.6964009404182434), ('establishments', 0.6946244835853577), ('locations', 0.6937226057052612)]\n",
            "[('observations', 0.8175575137138367), ('comments', 0.8061473965644836), ('remarks', 0.7580752372741699), ('views', 0.748948872089386), ('suggestions', 0.7413145303726196), ('assertions', 0.7323516607284546), ('strictures', 0.7291039228439331), ('suggestion', 0.7240777015686035), ('replies', 0.721973180770874), ('criticism', 0.7203445434570312)]\n",
            "[('prepared', 0.8410536050796509), ('willing', 0.7807048559188843), ('able', 0.7677128314971924), ('obliged', 0.7423179149627686), ('reluctant', 0.7292316555976868), ('unable', 0.7277888655662537), ('trying', 0.7235994338989258), ('can', 0.7216351628303528), ('seeking', 0.7188756465911865), ('attempting', 0.7164318561553955)]\n",
            "[('Boroughbridge', 0.898820161819458), ('Techniques', 0.8873333930969238), ('Shame', 0.87736976146698), ('Lesmahagow', 0.8766859769821167), ('worm', 0.8752199411392212), ('pulpit', 0.8750609159469604), ('Gaidhlig', 0.8742354512214661), ('Jake', 0.8713088035583496), ('iawn', 0.8701885938644409), ('Bedale', 0.8685735464096069)]\n",
            "[('locked', 0.8445786237716675), ('kicked', 0.8299029469490051), ('pulling', 0.8197034001350403), ('turned', 0.8194675445556641), ('pulled', 0.8187205791473389), ('stepping', 0.8052353858947754), ('blown', 0.8009878993034363), ('pushed', 0.8004577159881592), ('thrown', 0.7981927394866943), ('turns', 0.7957020998001099)]\n",
            "[('Preston', 0.9000108242034912), ('Chester', 0.8920988440513611), ('Bristol', 0.8903268575668335), ('Warrington', 0.886726975440979), ('Derby', 0.8864274024963379), ('Southampton', 0.8856902122497559), ('Durham', 0.8830680847167969), ('Doncaster', 0.881875216960907), ('Aberdeen', 0.8816893100738525), ('Leeds', 0.8789786100387573)]\n",
            "[('blocked', 0.8300148248672485), ('observed', 0.8219608664512634), ('overtaken', 0.8209059238433838), ('overseen', 0.8170696496963501), ('promoted', 0.8083213567733765), ('attacked', 0.802954375743866), ('demanded', 0.802033543586731), ('accepted', 0.7988359928131104), ('delivered', 0.7867251634597778), ('breached', 0.7799962162971497)]\n",
            "[('meaningless', 0.7463330626487732), ('naive', 0.7319107055664062), ('ineffective', 0.7300714254379272), ('useless', 0.7180105447769165), ('unhelpful', 0.7164905071258545), ('foolish', 0.704337477684021), ('prevalent', 0.7001569867134094), ('undesirable', 0.6987015008926392), ('clever', 0.6915234923362732), ('irrelevant', 0.6885440349578857)]\n"
          ],
          "name": "stdout"
        }
      ]
    },
    {
      "cell_type": "markdown",
      "metadata": {
        "id": "PhXDgcZxOaDy"
      },
      "source": [
        "With a window of 1."
      ]
    },
    {
      "cell_type": "code",
      "metadata": {
        "id": "0ZNkNfUvlGxU"
      },
      "source": [
        "model_w1 = Word2Vec(sentences=flat_sents_list, size=100, window=1, min_count=5, workers=1)\n",
        "model_w1.save(\"w1_word2vec.model\")"
      ],
      "execution_count": null,
      "outputs": []
    },
    {
      "cell_type": "code",
      "metadata": {
        "colab": {
          "base_uri": "https://localhost:8080/"
        },
        "id": "qCUGIEUOrJY1",
        "outputId": "e3896025-c5ae-452c-93af-c1875a7b4f5b"
      },
      "source": [
        "vectors_w1 = np.asarray(model_w1.wv.vectors)\n",
        "labels_w1 = np.asarray(model_w1.wv.index2word)\n",
        "\n",
        "kmeans_w1_20 = KMeans(n_clusters=20)\n",
        "kmeans_w1_20.fit(vectors_w1)"
      ],
      "execution_count": null,
      "outputs": [
        {
          "output_type": "execute_result",
          "data": {
            "text/plain": [
              "KMeans(algorithm='auto', copy_x=True, init='k-means++', max_iter=300,\n",
              "       n_clusters=20, n_init=10, n_jobs=None, precompute_distances='auto',\n",
              "       random_state=None, tol=0.0001, verbose=0)"
            ]
          },
          "metadata": {
            "tags": []
          },
          "execution_count": 78
        }
      ]
    },
    {
      "cell_type": "code",
      "metadata": {
        "colab": {
          "base_uri": "https://localhost:8080/"
        },
        "id": "WH_pUJ-arulf",
        "outputId": "7d14ce78-dc54-4556-ef9a-ec2e18fe0509"
      },
      "source": [
        "for k in range(20):\n",
        "  print(model_w1.wv.most_similar([kmeans_w1_20.cluster_centers_[k]]))"
      ],
      "execution_count": null,
      "outputs": [
        {
          "output_type": "stream",
          "text": [
            "[('downstream', 0.874364972114563), ('electrical', 0.8319903612136841), ('liquid', 0.8291375637054443), ('bioethanol', 0.8260509967803955), ('appliance', 0.8245855569839478), ('potato', 0.8191887736320496), ('timber', 0.8158866167068481), ('breeding', 0.8125231266021729), ('petroleum', 0.8112671375274658), ('underwater', 0.809147834777832)]\n",
            "[('MEMBER', 0.9654608964920044), ('Aw', 0.9651820063591003), ('custodiet', 0.9542416334152222), ('MacColl', 0.953324019908905), ('Shallow', 0.9517921209335327), ('Terrible', 0.9507783651351929), ('winna', 0.9497531056404114), ('Deportation', 0.94915771484375), ('Hodgkin', 0.949125349521637), ('Seiko', 0.948463499546051)]\n",
            "[('squashed', 0.8649362921714783), ('milked', 0.8640686273574829), ('kissed', 0.8602567911148071), ('gagged', 0.8566504120826721), ('made—and', 0.8537784814834595), ('castigated', 0.8537358045578003), ('tyrannised', 0.853532075881958), ('trivialised', 0.8516886830329895), ('rebuffed', 0.850708544254303), ('pinched', 0.850005030632019)]\n",
            "[('cloning', 0.8489471077919006), ('simulated', 0.8476771116256714), ('cafeteria', 0.842509388923645), ('arthroscopy', 0.8384871482849121), ('vaping', 0.8373249173164368), ('retardant', 0.836358904838562), ('NIRS2', 0.8350992202758789), ('coding', 0.8345955014228821), ('uneatable', 0.8338181376457214), ('tether', 0.8326706290245056)]\n",
            "[('jobseekers', 0.8020839691162109), ('people—who', 0.7955464124679565), ('Zimbabweans', 0.791754961013794), ('people—', 0.7840811610221863), ('businessmen', 0.7813906669616699), ('musicians', 0.7719873189926147), ('clients', 0.771371603012085), ('holidaymakers', 0.7612695693969727), ('artists', 0.7603530883789062), ('craftsmen', 0.7586369514465332)]\n",
            "[('Aw', 0.9539134502410889), ('Egginton', 0.9503338932991028), ('Baughen', 0.9492377042770386), ('Hodgkin', 0.948089599609375), ('Hotelkeeper', 0.9462524652481079), ('Shallow', 0.9451051950454712), ('Sting', 0.9445353746414185), ('Midhopestones', 0.9439842700958252), ('Reenen', 0.9434833526611328), ('Gaidhlig', 0.9413845539093018)]\n",
            "[('exploiting', 0.8120762705802917), ('bringing', 0.8046910166740417), ('putting', 0.8033847808837891), ('getting', 0.7920861840248108), ('supporting', 0.791342556476593), ('acquiring', 0.7885156273841858), ('giving', 0.7839444875717163), ('keeping', 0.7813371419906616), ('providing', 0.7799369096755981), ('delivering', 0.775004506111145)]\n",
            "[('Lebanese', 0.8016840219497681), ('Ukrainian', 0.799758791923523), ('Turkish', 0.787584662437439), ('Argentine', 0.7854039072990417), ('US', 0.7653874158859253), ('Canadian', 0.7624515891075134), ('Mexican', 0.7602572441101074), ('Polish', 0.7581121325492859), ('Republican', 0.7580205202102661), ('Rwandan', 0.7576712965965271)]\n",
            "[('Curriculum', 0.915379524230957), ('Management', 0.9152954816818237), ('Conservation', 0.909124493598938), ('Wages', 0.9084064960479736), ('Complaints', 0.9041135907173157), ('Educational', 0.9028776288032532), ('Centres', 0.9028102159500122), ('Intellectual', 0.9026144742965698), ('Products', 0.9021928310394287), ('Property', 0.8983415365219116)]\n",
            "[('reintroduce', 0.8493102788925171), ('modify', 0.8434149026870728), ('accommodate', 0.8432177305221558), ('regain', 0.8418291807174683), ('constrain', 0.8372001647949219), ('frustrate', 0.835313081741333), ('reassess', 0.83343905210495), ('incorporate', 0.8329942226409912), ('exploit', 0.8324214816093445), ('supervise', 0.8310118913650513)]\n",
            "[('Poole', 0.9327578544616699), ('Carmarthen', 0.9243412017822266), ('Barking', 0.9208356738090515), ('Bath', 0.9174003601074219), ('Ipswich', 0.911602258682251), ('Aylesbury', 0.9080419540405273), ('Southport', 0.9064843654632568), ('Blackburn', 0.905541181564331), ('Shoreham', 0.9036877155303955), ('Deptford', 0.9033673405647278)]\n",
            "[('breached', 0.8712854385375977), ('overridden', 0.8684004545211792), ('overtaken', 0.8675568103790283), ('dictated', 0.865211009979248), ('mounted', 0.8634932637214661), ('decimated', 0.8476034998893738), ('framed', 0.844485878944397), ('overruled', 0.8418287038803101), ('erected', 0.8413417339324951), ('overseen', 0.8398977518081665)]\n",
            "[('confirm', 0.7999738454818726), ('acknowledge', 0.7913382053375244), ('accept', 0.7869503498077393), ('appreciate', 0.7742362022399902), ('think', 0.7719868421554565), ('recognise', 0.7683838605880737), ('accepts', 0.7597579956054688), ('concede', 0.7575990557670593), ('realise', 0.7565642595291138), ('agree', 0.7554689049720764)]\n",
            "[('also', 0.8081144094467163), ('always', 0.790442705154419), ('not', 0.7708455324172974), ('actually', 0.7579378485679626), ('he', 0.7428627014160156), ('never', 0.7290941476821899), ('certainly', 0.727695882320404), ('obviously', 0.727635383605957), ('therefore', 0.7237381935119629), ('she', 0.7217861413955688)]\n",
            "[('dubious', 0.8522642850875854), ('risky', 0.8442227244377136), ('subtle', 0.8159083724021912), ('cavalier', 0.8132008910179138), ('destructive', 0.8122234344482422), ('shrewd', 0.8105085492134094), ('benign', 0.8099931478500366), ('disreputable', 0.8030310869216919), ('unattractive', 0.8027421236038208), ('grudging', 0.7991644740104675)]\n",
            "[('135', 0.9402387142181396), ('220', 0.9402347803115845), ('190', 0.936741292476654), ('78', 0.9314010143280029), ('122', 0.9310532212257385), ('115', 0.929936945438385), ('1.7', 0.9290531873703003), ('61', 0.9284272193908691), ('330', 0.9273654818534851), ('109', 0.9272739887237549)]\n",
            "[('violation', 0.8111042380332947), ('apprehension', 0.8029510974884033), ('disapproval', 0.7837503552436829), ('unpopularity', 0.782676100730896), ('distrust', 0.7730335593223572), ('usefulness', 0.7695311903953552), ('alienation', 0.7672596573829651), ('ineptitude', 0.7657108306884766), ('inadequacies', 0.7655409574508667), ('severity', 0.7627670764923096)]\n",
            "[('managerial', 0.7469165921211243), ('mobilisation', 0.7170712947845459), ('Proper', 0.7130812406539917), ('artistic', 0.7080426812171936), ('legal', 0.7065027952194214), ('commercial', 0.7047709226608276), ('linguistic', 0.7017115354537964), ('recreational', 0.7001904249191284), ('educational', 0.6976428031921387), ('diagnostic', 0.6975179314613342)]\n",
            "[('proposals', 0.7769470810890198), ('measures', 0.768295407295227), ('reforms', 0.7610951662063599), ('policies', 0.7395841479301453), ('initiatives', 0.7378989458084106), ('provisions', 0.7347719669342041), ('commitments', 0.718195915222168), ('considerations', 0.7130817770957947), ('arrangements', 0.7076683640480042), ('disciplines', 0.7055836915969849)]\n",
            "[('Wren', 0.9439458847045898), ('Knight', 0.9324663281440735), ('Gregory', 0.9323210716247559), ('Callaghan', 0.9300122261047363), ('Guardsman', 0.9299455881118774), ('Watson', 0.9286817312240601), ('Richardson', 0.9285528659820557), ('Collins', 0.9283465147018433), ('Chapman', 0.9283090829849243), ('Mackenzie', 0.9278534650802612)]\n"
          ],
          "name": "stdout"
        }
      ]
    },
    {
      "cell_type": "markdown",
      "metadata": {
        "id": "YmaO5ktNOc-E"
      },
      "source": [
        "Window of 30."
      ]
    },
    {
      "cell_type": "code",
      "metadata": {
        "id": "ynYxtIfjsINr"
      },
      "source": [
        "model_w30 = Word2Vec(sentences=flat_sents_list, size=100, window=30, min_count=2, workers=4)\n",
        "model_w30.save(\"w30_word2vec.model\")"
      ],
      "execution_count": null,
      "outputs": []
    },
    {
      "cell_type": "code",
      "metadata": {
        "colab": {
          "base_uri": "https://localhost:8080/"
        },
        "id": "hnDBe75IucOQ",
        "outputId": "39ca443d-a17e-4353-d99c-b7565f2ba440"
      },
      "source": [
        "vectors_w30 = np.asarray(model_w30.wv.vectors)\n",
        "labels_w30 = np.asarray(model_w30.wv.index2word)\n",
        "\n",
        "kmeans_w30_20 = KMeans(n_clusters=20)\n",
        "kmeans_w30_20.fit(vectors_w30)"
      ],
      "execution_count": null,
      "outputs": [
        {
          "output_type": "execute_result",
          "data": {
            "text/plain": [
              "KMeans(algorithm='auto', copy_x=True, init='k-means++', max_iter=300,\n",
              "       n_clusters=20, n_init=10, n_jobs=None, precompute_distances='auto',\n",
              "       random_state=None, tol=0.0001, verbose=0)"
            ]
          },
          "metadata": {
            "tags": []
          },
          "execution_count": 81
        }
      ]
    },
    {
      "cell_type": "code",
      "metadata": {
        "colab": {
          "base_uri": "https://localhost:8080/"
        },
        "id": "sSmjmtjHvJUP",
        "outputId": "77c220bd-b502-4a9c-b791-725a95474653"
      },
      "source": [
        "for k in range(20):\n",
        "  print(model_w30.wv.most_similar([kmeans_w30_20.cluster_centers_[k]]))"
      ],
      "execution_count": null,
      "outputs": [
        {
          "output_type": "stream",
          "text": [
            "[('deception', 0.7303947806358337), ('notorious', 0.7205331325531006), ('nasty', 0.7203627228736877), ('shot', 0.7124347686767578), ('beaten', 0.7094296216964722), ('journalist', 0.7060965299606323), ('Hitler', 0.6894863843917847), ('dead', 0.6873301267623901), ('poisoned', 0.6870399713516235), ('thugs', 0.6862660646438599)]\n",
            "[('remind', 0.9009132385253906), ('acknowledge', 0.8239524960517883), ('warn', 0.8222005367279053), ('suggest', 0.8206404447555542), ('reassure', 0.810820460319519), ('tell', 0.807672381401062), ('appreciate', 0.804243266582489), ('advise', 0.7997819781303406), ('assure', 0.7942823171615601), ('understand', 0.790573239326477)]\n",
            "[('pier', 0.8057478070259094), ('River', 0.8031519055366516), ('harbour', 0.7975413799285889), ('Newcastle', 0.790073037147522), ('Southampton', 0.7881982326507568), ('depot', 0.7722073793411255), ('Portsmouth', 0.7695205211639404), ('Preston', 0.7675100564956665), ('Cleethorpes', 0.7632572054862976), ('Chester', 0.7609731554985046)]\n",
            "[('gweinidog', 0.8710824251174927), ('armbands', 0.8651282787322998), ('Yanomami', 0.8550622463226318), ('Clifford', 0.8528265953063965), ('Contestability', 0.8461858630180359), ('audiotape', 0.8447685837745667), ('scrubbed', 0.8422420024871826), ('Conrad', 0.8416446447372437), ('Colleague', 0.8415923118591309), ('Travis', 0.8412089347839355)]\n",
            "[('adults', 0.7292953729629517), ('children', 0.7229088544845581), ('learners', 0.7181816101074219), ('adult', 0.7109541893005371), ('mothers', 0.6911367177963257), ('mums', 0.6875514984130859), ('qualifications', 0.6875191926956177), ('learning', 0.6781894564628601), ('nursing', 0.6725971102714539), ('pupils', 0.6706868410110474)]\n",
            "[('Furthermore', 0.8545380234718323), ('Finally', 0.8521788120269775), ('Notwithstanding', 0.8450666666030884), ('Given', 0.8237099051475525), ('Secondly', 0.8165103793144226), ('But', 0.8086678981781006), ('While', 0.7984881401062012), ('Despite', 0.7905800342559814), ('Now', 0.785610556602478), ('Following', 0.7851073741912842)]\n",
            "[('challenged', 0.7674628496170044), ('attacked', 0.7507222890853882), ('passed', 0.7476539015769958), ('accepted', 0.7448176741600037), ('initiated', 0.7437998056411743), ('replaced', 0.7323002815246582), ('observed', 0.7308982610702515), ('moved', 0.7289509177207947), ('followed', 0.724428653717041), ('demanded', 0.7242625951766968)]\n",
            "[('subsidies', 0.7365198731422424), ('imports', 0.7257428765296936), ('price', 0.722072422504425), ('cereals', 0.7128058671951294), ('levies', 0.7067713737487793), ('production', 0.7061771154403687), ('producer', 0.7045469284057617), ('prices', 0.7016470432281494), ('tariffs', 0.6948823928833008), ('profits', 0.6829162836074829)]\n",
            "[('observations', 0.8027137517929077), ('comments', 0.7349326610565186), ('views', 0.73398756980896), ('suggestion', 0.7194727063179016), ('remarks', 0.7181481122970581), ('thoughts', 0.7058018445968628), ('assertions', 0.6960303783416748), ('remark', 0.6888980865478516), ('judgment', 0.6843706369400024), ('observation', 0.6823626756668091)]\n",
            "[('Moreover', 0.883643388748169), ('Because', 0.8708544373512268), ('Clearly', 0.8519274592399597), ('Certainly', 0.8514648079872131), ('Until', 0.8319488763809204), ('Equally', 0.8298156261444092), ('Thirdly', 0.8282525539398193), ('Also', 0.8227750062942505), ('Secondly', 0.8199729919433594), ('Whereas', 0.8198672533035278)]\n",
            "[('Management', 0.8517755270004272), ('Advisory', 0.7965480089187622), ('Personnel', 0.7704949378967285), ('Standards', 0.7674970626831055), ('Information', 0.7511410713195801), ('Sciences', 0.744647741317749), ('Assessment', 0.7393320798873901), ('Consumer', 0.7281277775764465), ('Curriculum', 0.7178330421447754), ('Technology', 0.7170043587684631)]\n",
            "[('characteristics', 0.6830045580863953), ('mechanisms', 0.6826955080032349), ('structures', 0.6814684271812439), ('processes', 0.6752842664718628), ('alternatives', 0.6740583181381226), ('systems', 0.6637078523635864), ('elements', 0.6619357466697693), ('objectives', 0.6616585850715637), ('arrangements', 0.6605609655380249), ('institutions', 0.6485965251922607)]\n",
            "[('criminals', 0.7928270101547241), ('assault', 0.7884708642959595), ('offences', 0.7737380266189575), ('convictions', 0.7723286151885986), ('DNA', 0.7667449712753296), ('custody', 0.7567591071128845), ('defendants', 0.7532333731651306), ('shoplifting', 0.7527234554290771), ('crimes', 0.7513043284416199), ('offence', 0.7491661906242371)]\n",
            "[('sees', 0.7814433574676514), ('considers', 0.7688992023468018), ('chooses', 0.7530479431152344), ('finds', 0.7508129477500916), ('puts', 0.7398873567581177), ('requires', 0.7330015897750854), ('leaves', 0.7310035228729248), ('asks', 0.7301328182220459), ('represents', 0.722823441028595), ('holds', 0.7125723361968994)]\n",
            "[('Serbia', 0.8642252683639526), ('Russia', 0.8590572476387024), ('Croatia', 0.8450326919555664), ('Syria', 0.8361997008323669), ('Ukraine', 0.8348168134689331), ('Libya', 0.832726001739502), ('Angola', 0.8322898149490356), ('Lebanon', 0.8311769962310791), ('Turkey', 0.8231061697006226), ('Iran', 0.815477728843689)]\n",
            "[('October', 0.773925244808197), ('seconds', 0.7719547152519226), ('months', 0.7565001249313354), ('November', 0.753695547580719), ('weeks', 0.7508932948112488), ('month', 0.749371349811554), ('days', 0.7450124025344849), ('minutes', 0.7255538702011108), ('April', 0.72419673204422), ('July', 0.7225160598754883)]\n",
            "[('delighted', 0.8923779129981995), ('glad', 0.8873156309127808), ('pleased', 0.8766493201255798), ('sorry', 0.8715173006057739), ('convinced', 0.8638192415237427), ('happy', 0.85647052526474), ('afraid', 0.8480550050735474), ('confident', 0.8468518853187561), ('surprised', 0.840535044670105), ('astonished', 0.8401517868041992)]\n",
            "[('effective', 0.6470928192138672), ('limited', 0.6314733624458313), ('sensible', 0.5970413088798523), ('neutral', 0.5920300483703613), ('changing', 0.5906388759613037), ('important', 0.5770571231842041), ('rigorous', 0.5769439935684204), ('complex', 0.5764629244804382), ('different', 0.57441246509552), ('useful', 0.5640434622764587)]\n",
            "[('17', 0.8823410272598267), ('37', 0.8764697313308716), ('36', 0.8741313815116882), ('15', 0.8736539483070374), ('33', 0.8706622123718262), ('25', 0.8691238760948181), ('30', 0.8673760890960693), ('35', 0.8654835820198059), ('42', 0.8551862239837646), ('14', 0.852756679058075)]\n",
            "[('contribute', 0.7934569716453552), ('pursue', 0.7690376043319702), ('extend', 0.7579792141914368), ('respond', 0.7476675510406494), ('apply', 0.7319928407669067), ('send', 0.7313060760498047), ('consider', 0.7234383821487427), ('commit', 0.716661810874939), ('add', 0.7139536738395691), ('find', 0.7138673067092896)]\n"
          ],
          "name": "stdout"
        }
      ]
    },
    {
      "cell_type": "markdown",
      "metadata": {
        "id": "BzcRmeUgOfS_"
      },
      "source": [
        "Window of 300 for *utterances*"
      ]
    },
    {
      "cell_type": "code",
      "metadata": {
        "id": "ClLYy8Q5vs2p"
      },
      "source": [
        "model_w300_u = Word2Vec(sentences=flat_utts_list, size=100, window=300, min_count=5, workers=1)\n",
        "model_w300_u.save(\"w300_u_word2vec.model\")"
      ],
      "execution_count": null,
      "outputs": []
    },
    {
      "cell_type": "code",
      "metadata": {
        "colab": {
          "base_uri": "https://localhost:8080/"
        },
        "id": "sfmznqjBxSDh",
        "outputId": "ab3f8634-e08c-42ee-fcfa-e39d8d86ec1f"
      },
      "source": [
        "vectors_w300_u = np.asarray(model_w300_u.wv.vectors)\n",
        "labels_w300_u = np.asarray(model_w300_u.wv.index2word)\n",
        "\n",
        "kmeans_w300_u_20 = KMeans(n_clusters=20)\n",
        "kmeans_w300_u_20.fit(vectors_w300_u)"
      ],
      "execution_count": null,
      "outputs": [
        {
          "output_type": "execute_result",
          "data": {
            "text/plain": [
              "KMeans(algorithm='auto', copy_x=True, init='k-means++', max_iter=300,\n",
              "       n_clusters=20, n_init=10, n_jobs=None, precompute_distances='auto',\n",
              "       random_state=None, tol=0.0001, verbose=0)"
            ]
          },
          "metadata": {
            "tags": []
          },
          "execution_count": 41
        }
      ]
    },
    {
      "cell_type": "code",
      "metadata": {
        "colab": {
          "base_uri": "https://localhost:8080/"
        },
        "id": "6HaU4piJxh3d",
        "outputId": "f70cd30c-9b8c-4bd7-d56f-3df2d56c2d6c"
      },
      "source": [
        "for k in range(20):\n",
        "  print(model_w300_u.wv.most_similar([kmeans_w300_u_20.cluster_centers_[k]]))"
      ],
      "execution_count": null,
      "outputs": [
        {
          "output_type": "stream",
          "text": [
            "[('(', 0.7906002402305603), ('[', 0.7336597442626953), ('Northern', 0.3525460660457611), ('kinder', 0.3473285436630249), ('Helicopter', 0.3467278480529785), ('legendary', 0.3112546503543854), ('Kirkcaldy', 0.30934441089630127), ('recovers', 0.3038955628871918), ('bog', 0.3033091127872467), ('Urmston', 0.30250102281570435)]\n",
            "[('armbands', 0.8444607257843018), ('currency—yes', 0.8282371759414673), ('ramping', 0.8183379173278809), ('boiled', 0.8176232576370239), ('cartoon', 0.8116704225540161), ('committee—', 0.808711588382721), ('recalibrate', 0.8084715604782104), ('Gable', 0.8077730536460876), ('Irving', 0.8039529323577881), ('Streamlining', 0.7989455461502075)]\n",
            "[('trains', 0.7351946830749512), ('carriages', 0.714647650718689), ('frequency', 0.7138035297393799), ('buses', 0.7133491039276123), ('commuters', 0.7131365537643433), ('ticketing', 0.7117272019386292), ('Paddington', 0.7000897526741028), ('traffic', 0.6972862482070923), ('M25', 0.696694016456604), ('SRA', 0.6933543682098389)]\n",
            "[('Egypt', 0.7733892202377319), ('Yugoslavia', 0.735503613948822), ('Croatia', 0.7292249798774719), ('Serbia', 0.7195937633514404), ('Pol', 0.7182660102844238), ('coup', 0.7172935009002686), ('Khmer', 0.7170546054840088), ('territory', 0.7124769687652588), ('Rouge', 0.7111523151397705), ('Kurds', 0.7099184393882751)]\n",
            "[('castle', 0.716869592666626), ('headquarters', 0.6881939768791199), ('Tyneside', 0.675578773021698), ('Wellington', 0.6724613904953003), ('Park', 0.671890377998352), ('pier', 0.6601901650428772), ('River', 0.660021185874939), ('Portsmouth', 0.6584590077400208), ('Chester', 0.6575570702552795), ('birthplace', 0.6574434041976929)]\n",
            "[('30', 0.9266818165779114), ('25', 0.9182931780815125), ('15', 0.9157342910766602), ('20', 0.9152116775512695), ('40', 0.90900719165802), ('70', 0.8964841365814209), ('50', 0.8915523886680603), ('60', 0.8878551721572876), ('10', 0.882355809211731), ('100', 0.8756684064865112)]\n",
            "[('incorporated', 0.5933728814125061), ('baseline', 0.5746045112609863), ('evaluated', 0.5600557923316956), ('aggregated', 0.5558659434318542), ('appraisal', 0.5458744764328003), ('authorisation', 0.5360745191574097), ('radars', 0.528314471244812), ('assessed', 0.5257098078727722), ('deposited', 0.5225799083709717), ('requirement', 0.5194084644317627)]\n",
            "[('income', 0.7176394462585449), ('pensioners', 0.6373124122619629), ('incomes', 0.6120278835296631), ('benefits', 0.5760403871536255), ('fives', 0.5719490051269531), ('households', 0.5712540149688721), ('rent', 0.5608501434326172), ('SERPS', 0.5601775646209717), ('benefit', 0.5598743557929993), ('entitlement', 0.559471845626831)]\n",
            "[('sorry', 0.9574730396270752), ('glad', 0.9544956684112549), ('delighted', 0.9493316411972046), ('afraid', 0.9457077980041504), ('convinced', 0.9454333186149597), ('surprised', 0.9369813799858093), ('pleased', 0.932800829410553), ('happy', 0.9096851944923401), ('confident', 0.903313159942627), ('conscious', 0.8960591554641724)]\n",
            "[('supported', 0.6833366751670837), ('referred', 0.6729605197906494), ('alluded', 0.6585569977760315), ('followed', 0.6532274484634399), ('heard', 0.6489287614822388), ('missed', 0.6468894481658936), ('mentioned', 0.6437407732009888), ('moved', 0.6408697366714478), ('brought', 0.6367427706718445), ('announced', 0.6294105648994446)]\n",
            "[('State', 0.9722940325737), ('Chief', 0.9638653993606567), ('Home', 0.9519999623298645), ('Foreign', 0.9516995549201965), ('State—', 0.9330325722694397), ('Patronage', 0.9151701927185059), ('Parliamentary', 0.9111135005950928), ('Financial', 0.8865346908569336), ('State—and', 0.885162889957428), ('State—to', 0.8811246752738953)]\n",
            "[('perpetrators', 0.7476534247398376), ('murderers', 0.7169325947761536), ('assaults', 0.6953755617141724), ('gang', 0.6947392821311951), ('murders', 0.6916905045509338), ('offence', 0.6913396120071411), ('criminals', 0.6835795640945435), ('killers', 0.6672350168228149), ('convicted', 0.6592874526977539), ('stalking', 0.6591984629631042)]\n",
            "[('qualifications', 0.7162244915962219), ('teaching', 0.6872719526290894), ('profession', 0.6849260330200195), ('graduates', 0.656538724899292), ('grades', 0.6548366546630859), ('career', 0.6463320851325989), ('degrees', 0.6381722688674927), ('qualification', 0.6341627836227417), ('examinations', 0.6333214640617371), ('talented', 0.6218152046203613)]\n",
            "[('observations', 0.702324390411377), ('position', 0.6927942037582397), ('comments', 0.6764715909957886), ('remarks', 0.666991114616394), ('suggestion', 0.6586431264877319), ('views', 0.6582104563713074), ('suggestions', 0.647489070892334), ('statement', 0.6418479681015015), ('statements', 0.6170884370803833), ('remark', 0.6131690740585327)]\n",
            "[('Because', 0.9085735082626343), ('The', 0.8958065509796143), ('Indeed', 0.8783541321754456), ('Since', 0.873206377029419), ('Clearly', 0.8697595596313477), ('Whatever', 0.8688879609107971), ('All', 0.8682462573051453), ('By', 0.8635767698287964), ('Without', 0.8633794784545898), ('Now', 0.8580714464187622)]\n",
            "[('Given', 0.9468090534210205), ('Notwithstanding', 0.9178589582443237), ('Following', 0.9063084125518799), ('Now', 0.9044319987297058), ('While', 0.9043675065040588), ('Considering', 0.886405348777771), ('But', 0.8733590841293335), ('Despite', 0.8722367286682129), ('With', 0.8713681697845459), ('Further', 0.8701498508453369)]\n",
            "[('birds', 0.7619132399559021), ('pesticides', 0.7617698907852173), ('nitrates', 0.746069073677063), ('chickens', 0.7294319868087769), ('cows', 0.7293072938919067), ('burning', 0.7271322011947632), ('wheat', 0.7262893319129944), ('salmonella', 0.7261953353881836), ('supermarket', 0.7160012125968933), ('bees', 0.7151000499725342)]\n",
            "[('States', 0.9919097423553467), ('Kingdom', 0.9880120158195496), ('Nations', 0.9811652302742004), ('Emirates', 0.9281240701675415), ('Kingdom—and', 0.9046276807785034), ('States—and', 0.8748376369476318), ('Kingdom—for', 0.8683886528015137), ('States—to', 0.8471117615699768), ('Kingdom—', 0.8453763127326965), ('Kingdom—the', 0.8397378921508789)]\n",
            "[('convey', 0.7689075469970703), ('consider', 0.7572075128555298), ('add', 0.755245566368103), ('indicate', 0.7392935752868652), ('impress', 0.7384680509567261), ('refer', 0.7379874587059021), ('pass', 0.7355109453201294), ('advise', 0.7334609031677246), ('send', 0.7317700982093811), ('say', 0.7246452569961548)]\n",
            "[('cronies', 0.682263970375061), ('incompetent', 0.6755762696266174), ('hypocrisy', 0.6673743724822998), ('cat', 0.6562819480895996), ('con', 0.6545085906982422), ('contempt', 0.6480606198310852), ('sheer', 0.6444666385650635), ('bunch', 0.6415746808052063), ('outrageous', 0.6285700798034668), ('stupid', 0.6233768463134766)]\n"
          ],
          "name": "stdout"
        }
      ]
    },
    {
      "cell_type": "code",
      "metadata": {
        "colab": {
          "base_uri": "https://localhost:8080/"
        },
        "id": "cBXOdEZUxsT7",
        "outputId": "b29b432a-d741-4625-a005-2f98aedd0099"
      },
      "source": [
        "kmeans_w300_u_50 = KMeans(n_clusters=50)\n",
        "kmeans_w300_u_50.fit(vectors_w300_u)"
      ],
      "execution_count": null,
      "outputs": [
        {
          "output_type": "execute_result",
          "data": {
            "text/plain": [
              "KMeans(algorithm='auto', copy_x=True, init='k-means++', max_iter=300,\n",
              "       n_clusters=50, n_init=10, n_jobs=None, precompute_distances='auto',\n",
              "       random_state=None, tol=0.0001, verbose=0)"
            ]
          },
          "metadata": {
            "tags": []
          },
          "execution_count": 46
        }
      ]
    },
    {
      "cell_type": "code",
      "metadata": {
        "colab": {
          "base_uri": "https://localhost:8080/"
        },
        "id": "dIflxR7syNJt",
        "outputId": "1a388839-1c60-4ec4-b91c-05b6a29c438d"
      },
      "source": [
        "for k in range(50):\n",
        "  print(model_w300_u.wv.most_similar([kmeans_w300_u_50.cluster_centers_[k]]))"
      ],
      "execution_count": null,
      "outputs": [
        {
          "output_type": "stream",
          "text": [
            "[('murderous', 0.782203197479248), ('brutal', 0.7690398097038269), ('killing', 0.7625619173049927), ('assassination', 0.7202632427215576), ('extremists', 0.7190965414047241), ('bombing', 0.713610053062439), ('Jews', 0.7059056758880615), ('Yugoslav', 0.7054041028022766), ('massacre', 0.7044211626052856), ('murderers', 0.6985325813293457)]\n",
            "[('armbands', 0.8686840534210205), ('currency—yes', 0.8682381510734558), ('committee—', 0.8606423735618591), ('recalibrate', 0.8500977754592896), ('boiled', 0.8490879535675049), ('ramping', 0.8459910750389099), ('wittering', 0.8415347337722778), ('Streamlining', 0.8324931859970093), ('cartoon', 0.8286362886428833), ('Ordination', 0.8284775018692017)]\n",
            "[('Whatever', 0.9040017127990723), ('Because', 0.895175039768219), ('If', 0.8759665489196777), ('Now', 0.8692797422409058), ('Although', 0.8676561117172241), ('Without', 0.8664366006851196), ('Since', 0.850220799446106), ('Where', 0.8498630523681641), ('Indeed', 0.8445342779159546), ('When', 0.8441729545593262)]\n",
            "[('Neil', 0.5324184894561768), ('selflessly', 0.525986909866333), ('Kingsman', 0.5224355459213257), ('Mark', 0.5178558230400085), ('rats', 0.5084577798843384), ('QC', 0.5073241591453552), ('Anthony', 0.5065281391143799), ('stripped', 0.5035926699638367), ('Eve', 0.49105337262153625), ('fouling', 0.48765307664871216)]\n",
            "[('company', 0.7846779227256775), ('takeover', 0.7077144384384155), ('BSC', 0.7011082768440247), ('BL', 0.6998932957649231), ('Shorts', 0.6827515363693237), ('Electric', 0.6799509525299072), ('shareholders', 0.6788681745529175), ('Rover', 0.6739435195922852), ('companies', 0.6736288070678711), ('Honda', 0.6704577803611755)]\n",
            "[('Secretaries', 0.9503116011619568), ('Secretary', 0.9492594599723816), ('Staff', 0.911617636680603), ('Office', 0.9060578346252441), ('Attorney', 0.8930978178977966), ('Constable', 0.8893787264823914), ('Solicitor', 0.8560827374458313), ('Secretary—', 0.8529384732246399), ('Whip', 0.8505196571350098), ('Affairs', 0.8502329587936401)]\n",
            "[('examines', 0.7787582874298096), ('considers', 0.7644527554512024), ('wants', 0.7556257247924805), ('refers', 0.7550231218338013), ('represents', 0.7414565086364746), ('requires', 0.7251453995704651), ('keeps', 0.716787576675415), ('speaks', 0.715955376625061), ('asks', 0.7141031622886658), ('puts', 0.7061308026313782)]\n",
            "[('Business', 0.7785564064979553), ('Constitutional', 0.7679488658905029), ('Parliamentary', 0.7642161846160889), ('Responsibility', 0.7589386701583862), ('Cabinet', 0.7380626797676086), ('Serious', 0.7294085621833801), ('Patent', 0.7183932662010193), ('Statistics', 0.7138653993606567), ('Valuation', 0.7074887752532959), ('Table', 0.7046840190887451)]\n",
            "[('ceremony', 0.8037214279174805), ('palace', 0.7413371205329895), ('centenary', 0.7349168062210083), ('treasure', 0.7294750213623047), ('commemorate', 0.7291451692581177), ('celebration', 0.7233128547668457), ('memorial', 0.7000035047531128), ('anniversary', 0.699171245098114), ('poet', 0.6947169899940491), ('medal', 0.6881673336029053)]\n",
            "[('observations', 0.7795039415359497), ('comments', 0.7513447999954224), ('remarks', 0.7269270420074463), ('suggestion', 0.6958121657371521), ('statement', 0.6920682787895203), ('suggestions', 0.6818942427635193), ('representations', 0.6682798862457275), ('position', 0.6626043319702148), ('statements', 0.6574772000312805), ('decisions', 0.6455026865005493)]\n",
            "[('moment', 0.8850333094596863), ('least', 0.85611891746521), ('aimed', 0.8350495100021362), ('looked', 0.8325114846229553), ('looking', 0.8184829950332642), ('expense', 0.8157867193222046), ('forefront', 0.8099535703659058), ('stage', 0.805884838104248), ('look', 0.7933580875396729), ('present', 0.7598435282707214)]\n",
            "[('capita', 0.9784092903137207), ('cent.—a', 0.9710426926612854), ('cent', 0.9687526226043701), ('annum', 0.9579399824142456), ('cent.—and', 0.9521710872650146), ('cent.—', 0.9469640254974365), ('se', 0.9420432448387146), ('cent.—the', 0.9401551485061646), ('cent.—of', 0.9370442628860474), ('cent.—in', 0.9337084293365479)]\n",
            "[('edition', 0.6979581117630005), ('publication', 0.6717957258224487), ('newspaper', 0.6615020036697388), ('News', 0.6569297313690186), ('information', 0.6561918258666992), ('publications', 0.6549267768859863), ('papers', 0.6521469354629517), ('booklet', 0.6443083882331848), ('documents', 0.6413717269897461), ('newspapers', 0.6399723291397095)]\n",
            "[('sorry', 0.9619129300117493), ('glad', 0.9567387104034424), ('afraid', 0.952204704284668), ('delighted', 0.9516781568527222), ('convinced', 0.9466363191604614), ('surprised', 0.9403316974639893), ('pleased', 0.9323726892471313), ('confident', 0.9129334092140198), ('sure', 0.8998445272445679), ('happy', 0.899735689163208)]\n",
            "[('(', 1.0), ('kinder', 0.40900740027427673), ('Helicopter', 0.3409639596939087), ('Hornsey', 0.333934485912323), ('Featherstone', 0.3314579129219055), ('Intel', 0.3262360990047455), ('Lynne', 0.32233282923698425), ('strongest', 0.3213251829147339), ('Clubs', 0.3119581639766693), ('Northern', 0.300106018781662)]\n",
            "[('The', 0.9004166722297668), ('Because', 0.890833854675293), ('Indeed', 0.8800773620605469), ('All', 0.8765822649002075), ('Clearly', 0.8737972974777222), ('Since', 0.8694769144058228), ('So', 0.8656153678894043), ('As', 0.8622933626174927), ('However', 0.861126184463501), ('Without', 0.8600820302963257)]\n",
            "[('State', 0.9794027805328369), ('Chief', 0.9705455303192139), ('Home', 0.9619909524917603), ('Foreign', 0.9616321325302124), ('State—', 0.9399049878120422), ('Patronage', 0.9226581454277039), ('Parliamentary', 0.9079488515853882), ('State—and', 0.8984938263893127), ('Financial', 0.8864392042160034), ('State—to', 0.8842813372612)]\n",
            "[('ratio', 0.6685692071914673), ('trend', 0.6676608324050903), ('output', 0.6374996304512024), ('forecast', 0.6358123421669006), ('figure', 0.6346976161003113), ('2010', 0.6249293088912964), ('2008', 0.6244227886199951), ('trends', 0.6193942427635193), ('1997', 0.6029461622238159), ('figures', 0.5945847034454346)]\n",
            "[('diseases', 0.770153284072876), ('prescriptions', 0.7561688423156738), ('infection', 0.75589519739151), ('diabetes', 0.7542609572410583), ('illnesses', 0.7450398802757263), ('medication', 0.739081621170044), ('disorders', 0.7369784116744995), ('prescribing', 0.7356929779052734), ('sufferers', 0.7300149202346802), ('infections', 0.7232112884521484)]\n",
            "[(']', 0.9999999403953552), ('Ireland—a', 0.4046425223350525), ('Rock', 0.36326301097869873), ('Ireland', 0.3568924069404602), ('Ireland—not', 0.34298646450042725), ('Ireland—for', 0.33849531412124634), ('Ireland—in', 0.3358347415924072), ('Ireland—and', 0.32738733291625977), ('Ireland—to', 0.3253421187400818), ('Bakerloo', 0.32309648394584656)]\n",
            "[('naval', 0.7965046167373657), ('RAF', 0.7942293286323547), ('Tornado', 0.7812328338623047), ('aircraft', 0.7767276167869568), ('battalion', 0.7766188383102417), ('helicopter', 0.7657433748245239), ('HMS', 0.7566646337509155), ('tank', 0.753402590751648), ('ships', 0.7488998174667358), ('armour', 0.7469192147254944)]\n",
            "[('trains', 0.7336225509643555), ('rail', 0.7256646752357483), ('commuters', 0.7245184779167175), ('ticketing', 0.7207846641540527), ('traffic', 0.717633068561554), ('M25', 0.714486837387085), ('carriages', 0.7101020812988281), ('SRA', 0.7051714062690735), ('railways', 0.7039721608161926), ('Paddington', 0.7034205794334412)]\n",
            "[('complicated', 0.6117205619812012), ('desirable', 0.6099470853805542), ('effective', 0.597453236579895), ('essentially', 0.5768349766731262), ('limited', 0.570083737373352), ('appropriate', 0.5694568157196045), ('broad', 0.5665498971939087), ('complex', 0.5655542612075806), ('refined', 0.5622032284736633), ('helpful', 0.5596680045127869)]\n",
            "[('qualifications', 0.771915853023529), ('degrees', 0.7440632581710815), ('graduates', 0.7277688980102539), ('teaching', 0.7246756553649902), ('academic', 0.7195376753807068), ('GCSEs', 0.7066137790679932), ('physics', 0.7026113271713257), ('qualification', 0.7025094628334045), ('GCSE', 0.6883050203323364), ('vocational', 0.6845614910125732)]\n",
            "[('States', 0.9919097423553467), ('Kingdom', 0.9880120158195496), ('Nations', 0.9811652302742004), ('Emirates', 0.9281240701675415), ('Kingdom—and', 0.9046276807785034), ('States—and', 0.8748376369476318), ('Kingdom—for', 0.8683886528015137), ('States—to', 0.8471117615699768), ('Kingdom—', 0.8453763127326965), ('Kingdom—the', 0.8397378921508789)]\n",
            "[('couples', 0.6932928562164307), ('claimants', 0.6770150661468506), ('entitlement', 0.6546489000320435), ('households', 0.6504472494125366), ('income', 0.64262855052948), ('benefit', 0.6308326125144958), ('carers', 0.6208491325378418), ('parent', 0.6179406642913818), ('spouse', 0.6138077974319458), ('people', 0.6033788323402405)]\n",
            "[('accept', 0.9575591683387756), ('recognise', 0.947665810585022), ('appreciate', 0.9326626062393188), ('realise', 0.9276658892631531), ('agree', 0.9227256774902344), ('recall', 0.8738657832145691), ('understand', 0.8681214451789856), ('acknowledge', 0.8532977104187012), ('recollect', 0.8254783153533936), ('think', 0.8094534873962402)]\n",
            "[('Is', 1.0), ('Are', 0.8224734663963318), ('Was', 0.7743474245071411), ('Should', 0.7124956846237183), ('Might', 0.6966748833656311), ('Do', 0.6897009611129761), ('Would', 0.6856096386909485), ('But', 0.6809659600257874), ('Reverting', 0.6722399592399597), ('Ought', 0.6607581973075867)]\n",
            "[('days', 0.9089806079864502), ('months', 0.9051679372787476), ('weeks', 0.8972402811050415), ('years', 0.8972117900848389), ('minutes', 0.8932836651802063), ('thirds', 0.8397384285926819), ('times', 0.8112818002700806), ('quarters', 0.8087745904922485), ('moments', 0.7857158184051514), ('seconds', 0.7770634889602661)]\n",
            "[('[', 0.8715527057647705), ('’', 0.6610166430473328), ('hoarded', 0.591776967048645), ('dotted', 0.3719307780265808), ('prorogued', 0.3582300543785095), ('view—it', 0.32494914531707764), ('Check', 0.31292545795440674), ('336', 0.3103511333465576), ('bolstering', 0.3045535087585449), ('edges', 0.29959672689437866)]\n",
            "[('perpetrators', 0.746683657169342), ('criminals', 0.7440159320831299), ('offences', 0.7265713810920715), ('crimes', 0.7153218984603882), ('arrest', 0.6920400261878967), ('offence', 0.691841721534729), ('convictions', 0.690394401550293), ('gang', 0.689420223236084), ('conviction', 0.6874024868011475), ('murderers', 0.6820831298828125)]\n",
            "[('birds', 0.7880874276161194), ('pesticides', 0.7475371360778809), ('burning', 0.7460793256759644), ('chickens', 0.7415295243263245), ('cows', 0.7357980012893677), ('nitrates', 0.7347507476806641), ('soil', 0.7233428955078125), ('bees', 0.7186342477798462), ('wildlife', 0.7164818048477173), ('wheat', 0.7157834768295288)]\n",
            "[('incompetent', 0.7359445691108704), ('con', 0.7032178640365601), ('incompetence', 0.6997108459472656), ('pathetic', 0.6993677616119385), ('sheer', 0.6949775815010071), ('hypocrisy', 0.6890143156051636), ('useless', 0.6679651737213135), ('wretched', 0.657147228717804), ('cronies', 0.6545405983924866), ('ridiculous', 0.644912838935852)]\n",
            "[('followed', 0.6950488090515137), ('considered', 0.677359938621521), ('supported', 0.6769322752952576), ('seen', 0.6635125875473022), ('announced', 0.6630511283874512), ('heard', 0.6616133451461792), ('implemented', 0.6571322679519653), ('undertaken', 0.6447641253471375), ('held', 0.6443041563034058), ('studied', 0.6441535353660583)]\n",
            "[('30', 0.9263527989387512), ('25', 0.9201241135597229), ('20', 0.9160820841789246), ('15', 0.9152464270591736), ('40', 0.9075514078140259), ('70', 0.8949877619743347), ('50', 0.8907954096794128), ('60', 0.8897807002067566), ('10', 0.8824607133865356), ('100', 0.8758083581924438)]\n",
            "[('Lady', 0.8418466448783875), ('Gentleman', 0.81952965259552), ('Friend', 0.7552024126052856), ('Gentlemen', 0.6658123731613159), ('Friends', 0.621143102645874), ('Gentleman—I', 0.5372812747955322), ('Gentlman', 0.5338656306266785), ('Gentleman—who', 0.5300182700157166), ('Friend—and', 0.495229572057724), ('Gentleman—and', 0.4950401782989502)]\n",
            "[('tell', 0.8847212791442871), ('remind', 0.8718792200088501), ('advise', 0.8441513776779175), ('inform', 0.8430529832839966), ('reassure', 0.8398528099060059), ('assure', 0.8390366435050964), ('convey', 0.7977923154830933), ('commend', 0.7929981350898743), ('ask', 0.781714141368866), ('confirm', 0.7640378475189209)]\n",
            "[('set', 0.8327717185020447), ('turned', 0.8170105218887329), ('rolled', 0.7878240942955017), ('put', 0.7820528745651245), ('bringing', 0.7774394750595093), ('carried', 0.7763648629188538), ('carry', 0.7750803828239441), ('pointing', 0.7735657691955566), ('picked', 0.7703684568405151), ('brought', 0.7672283053398132)]\n",
            "[('more', 0.9421250224113464), ('less', 0.9415067434310913), ('rather', 0.9050190448760986), ('faster', 0.8906316757202148), ('bigger', 0.8800685405731201), ('lower', 0.8696380853652954), ('slower', 0.869158148765564), ('fewer', 0.8568087816238403), ('higher', 0.8328918218612671), ('better', 0.8259422779083252)]\n",
            "[('“', 1.0), ('it—is', 0.35907411575317383), ('escalators', 0.3524274230003357), ('systematically', 0.34908390045166016), ('399', 0.344301700592041), ('Richborough', 0.34239012002944946), ('17½', 0.33243414759635925), ('Laughter', 0.3282335102558136), ('Highly', 0.32230624556541443), ('decorations', 0.31801754236221313)]\n",
            "[('Rome', 0.7167127132415771), ('treaty', 0.7118839025497437), ('Europe', 0.7103907465934753), ('Spain', 0.7072511911392212), ('Greece', 0.7054120898246765), ('Poles', 0.6807904839515686), ('EU', 0.6792984008789062), ('treaties', 0.6746759414672852), ('Bulgaria', 0.6696816682815552), ('Austria', 0.6557537317276001)]\n",
            "[('parties', 0.6828204393386841), ('government', 0.6473668813705444), ('Committees', 0.6465132832527161), ('quangos', 0.6314347386360168), ('peers', 0.6175582408905029), ('referendums', 0.6137328147888184), ('assemblies', 0.6116513013839722), ('accountability', 0.6101518869400024), ('composition', 0.5995360612869263), ('Parliaments', 0.5909267663955688)]\n",
            "[(')', 1.0), ('control—', 0.45476090908050537), ('Ireland—not', 0.3549199104309082), ('Skeet', 0.3524536192417145), ('Ireland—to', 0.3488932251930237), ('Ireland—the', 0.3485783040523529), ('Democrats—', 0.3461599349975586), ('want—a', 0.3337215483188629), ('Ireland—and', 0.32343173027038574), ('Ireland—or', 0.3197924792766571)]\n",
            "[('consider', 0.7464263439178467), ('respond', 0.7333173155784607), ('send', 0.7301367521286011), ('extend', 0.7260337471961975), ('add', 0.7246034145355225), ('pass', 0.7142618894577026), ('find', 0.7098594903945923), ('commit', 0.7045382261276245), ('convey', 0.7033483982086182), ('reinforce', 0.6926375031471252)]\n",
            "[('Egypt', 0.7866180539131165), ('Baghdad', 0.7542962431907654), ('Somalia', 0.7527097463607788), ('Angola', 0.742650032043457), ('Khartoum', 0.7360201478004456), ('repression', 0.7304331660270691), ('Khmer', 0.7285025715827942), ('Kurds', 0.7250478863716125), ('Rouge', 0.7227693796157837), ('Pol', 0.7214337587356567)]\n",
            "[('repayment', 0.6703720092773438), ('surcharge', 0.6563773155212402), ('income', 0.6257288455963135), ('fee', 0.613010823726654), ('bonus', 0.609076738357544), ('sum', 0.6067140102386475), ('tax', 0.6045722365379333), ('rebates', 0.6043250560760498), ('rebate', 0.5992249250411987), ('bill', 0.5949320197105408)]\n",
            "[('River', 0.675439715385437), ('Tameside', 0.672690749168396), ('Rochdale', 0.6613771915435791), ('junction', 0.6522941589355469), ('Telford', 0.6484109163284302), ('Warrington', 0.6472616791725159), ('County', 0.6437705755233765), ('Castle', 0.6403642892837524), ('Northamptonshire', 0.6401573419570923), ('Lincolnshire', 0.6398508548736572)]\n",
            "[('Given', 0.9414711594581604), ('Notwithstanding', 0.9088841080665588), ('Following', 0.902545690536499), ('Now', 0.8916054964065552), ('While', 0.8900681734085083), ('Considering', 0.8768247365951538), ('Might', 0.8680704236030579), ('Further', 0.8616296052932739), ('With', 0.8578815460205078), ('Despite', 0.8545199632644653)]\n",
            "[('re', 0.8202543258666992), ('non', 0.8167383670806885), ('pre', 0.7784487009048462), ('co', 0.7595984935760498), ('self', 0.7586474418640137), ('anti', 0.749443769454956), ('sub', 0.7477431893348694), ('Co', 0.7190463542938232), ('related', 0.6990584135055542), ('semi', 0.6834850907325745)]\n",
            "[('s', 0.9877004623413086), ('t', 0.9685202240943909), ('don', 0.9323205947875977), ('ll', 0.9242992997169495), ('ve', 0.9209100604057312), ('‘', 0.9155828356742859), ('d', 0.8687827587127686), ('Shi', 0.8662416934967041), ('Sana', 0.8349545001983643), ('isn', 0.8140594959259033)]\n"
          ],
          "name": "stdout"
        }
      ]
    },
    {
      "cell_type": "markdown",
      "metadata": {
        "id": "uL5JDR3LOjv6"
      },
      "source": [
        "FastText embeddings (takes 15 min)"
      ]
    },
    {
      "cell_type": "code",
      "metadata": {
        "id": "nW8cbVrzHFeQ"
      },
      "source": [
        "from gensim.models import FastText\n"
      ],
      "execution_count": null,
      "outputs": []
    },
    {
      "cell_type": "code",
      "metadata": {
        "id": "q4O2LmAnHbAF"
      },
      "source": [
        "modelf_w5 = FastText(sentences=flat_sents_list, size=100, window=5, min_count=5, workers=1)\n",
        "modelf_w5.save(\"w5_fasttext.model\")"
      ],
      "execution_count": null,
      "outputs": []
    },
    {
      "cell_type": "code",
      "metadata": {
        "colab": {
          "base_uri": "https://localhost:8080/"
        },
        "id": "iVN-oYwjLaQC",
        "outputId": "aa072582-1b5f-484b-de85-a64a462744df"
      },
      "source": [
        "vectors_w5_f = np.asarray(modelf_w5.wv.vectors)\n",
        "labels_w5_f = np.asarray(modelf_w5.wv.index2word)\n",
        "\n",
        "kmeans_w5_f_20 = KMeans(n_clusters=20)\n",
        "kmeans_w5_f_20.fit(vectors_w5_f)"
      ],
      "execution_count": null,
      "outputs": [
        {
          "output_type": "execute_result",
          "data": {
            "text/plain": [
              "KMeans(algorithm='auto', copy_x=True, init='k-means++', max_iter=300,\n",
              "       n_clusters=20, n_init=10, n_jobs=None, precompute_distances='auto',\n",
              "       random_state=None, tol=0.0001, verbose=0)"
            ]
          },
          "metadata": {
            "tags": []
          },
          "execution_count": 53
        }
      ]
    },
    {
      "cell_type": "markdown",
      "metadata": {
        "id": "-co7_hTDOoMf"
      },
      "source": [
        "subword tokenization leads to rhymes and similar."
      ]
    },
    {
      "cell_type": "code",
      "metadata": {
        "colab": {
          "base_uri": "https://localhost:8080/"
        },
        "id": "Zd6uc4UHMHTI",
        "outputId": "d8c0bb57-80bf-469c-d15a-982762325a8a"
      },
      "source": [
        "for k in range(20):\n",
        "  print(modelf_w5.wv.most_similar([kmeans_w5_f_20.cluster_centers_[k]]))"
      ],
      "execution_count": null,
      "outputs": [
        {
          "output_type": "stream",
          "text": [
            "[('acknowledgment', 0.8484030961990356), ('concede', 0.8400231003761292), ('reappoint', 0.8161632418632507), ('acknowledgement', 0.8080217242240906), ('Vatersay', 0.8050147294998169), ('appreciate', 0.8028841018676758), ('understand—and', 0.8028236627578735), ('criticise', 0.7989882230758667), ('reassert', 0.7972162961959839), ('conquest', 0.7933142185211182)]\n",
            "[('Could', 0.8523712158203125), ('is—will', 0.8343628644943237), ('Gould', 0.8303952813148499), ('will—will', 0.827309787273407), ('—will', 0.8239887356758118), ('will', 0.8192586898803711), ('do—will', 0.8120394945144653), ('Would', 0.8107205629348755), ('Should', 0.8085587024688721), ('Will', 0.7992162704467773)]\n",
            "[('alignment', 0.9004708528518677), ('propulsion', 0.8757753968238831), ('torment', 0.8706355094909668), ('destination', 0.8695518970489502), ('temperament', 0.8676959276199341), ('monument', 0.8650738000869751), ('apportionment', 0.8616500496864319), ('clandestinely', 0.8612180352210999), ('intimation', 0.8609365820884705), ('internment', 0.860916256904602)]\n",
            "[('172,000', 0.9964447021484375), ('152,000', 0.996036946773529), ('405,000', 0.9957195520401001), ('42,000', 0.995684027671814), ('176,000', 0.9955022931098938), ('135,000', 0.9954720139503479), ('155,000', 0.9954310059547424), ('266,000', 0.9952174425125122), ('92,000', 0.9951858520507812), ('422,000', 0.9950079321861267)]\n",
            "[('179', 0.9482035636901855), ('1701', 0.9467232823371887), ('110', 0.9464747905731201), ('283', 0.9462747573852539), ('515', 0.9451336860656738), ('115', 0.9445115327835083), ('310', 0.9441789388656616), ('174', 0.9423938989639282), ('177', 0.942257285118103), ('5.15', 0.9408314228057861)]\n",
            "[('Tristar', 0.7772427797317505), ('Elephant', 0.7691064476966858), ('Jewry', 0.7612568140029907), ('Vilnius', 0.7586961388587952), ('Orissa', 0.7579789161682129), ('Gaulle', 0.7540204524993896), ('Fergus', 0.7526495456695557), ('Gamble', 0.7520689964294434), ('Qatar', 0.7471625804901123), ('Quayle', 0.7461229562759399)]\n",
            "[('ding', 0.977282702922821), ('skating', 0.9753019213676453), ('axing', 0.9723691940307617), ('Ging', 0.9720653295516968), ('Ayling', 0.9717262983322144), ('bowling', 0.971550464630127), ('Ring', 0.970129132270813), ('boating', 0.9701200127601624), ('ing', 0.9695068001747131), ('guzzling', 0.9678100943565369)]\n",
            "[('intangible', 0.9205235242843628), ('interoperable', 0.9073357582092285), ('cogent', 0.9065909385681152), ('interchangeable', 0.8985979557037354), ('propitious', 0.896164059638977), ('colorectal', 0.8960276246070862), ('salient', 0.8950022459030151), ('primitive', 0.8913304209709167), ('inimitable', 0.8913168907165527), ('indefatigable', 0.8912927508354187)]\n",
            "[('fated', 0.9755768179893494), ('bolted', 0.9705144762992859), ('bloated', 0.9699353575706482), ('shied', 0.9679064750671387), ('bated', 0.9675759077072144), ('redacted', 0.9674959182739258), ('fixated', 0.9669156670570374), ('sunbed', 0.9666725397109985), ('conquered', 0.9666515588760376), ('Ethelred', 0.9661266207695007)]\n",
            "[('Rendel', 0.9256632924079895), ('Rent', 0.9171224236488342), ('Try', 0.9113222360610962), ('Cory', 0.8927328586578369), ('Cologne', 0.8921950459480286), ('Cole', 0.8877659440040588), ('Pearman', 0.8867085576057434), ('Regent', 0.8842021226882935), ('Marion', 0.8814208507537842), ('Rentokil', 0.8797123432159424)]\n",
            "[('luvvies', 0.9413209557533264), ('junkies', 0.9375405311584473), ('scooters', 0.9302364587783813), ('proxies', 0.9288594126701355), ('patents', 0.9280836582183838), ('printers', 0.9278895854949951), ('puppies', 0.9274654388427734), ('decries', 0.9266148805618286), ('hippies', 0.925669252872467), ('colonies', 0.9251068830490112)]\n",
            "[('proxies', 0.953489363193512), ('luvvies', 0.9511209726333618), ('tions', 0.9478641152381897), ('segments', 0.9416697025299072), ('contortions', 0.9399468898773193), ('tenements', 0.9384333491325378), ('cries', 0.9382924437522888), ('emoluments', 0.9376629590988159), ('decries', 0.9369041323661804), ('junkies', 0.9356029629707336)]\n",
            "[('—that', 0.7336803078651428), ('so—that', 0.7029396891593933), ('it—that', 0.6952650547027588), ('Who', 0.6743254661560059), ('too—that', 0.6720196008682251), ('up—that', 0.6645906567573547), ('no—that', 0.6591740846633911), ('on—that', 0.6580263376235962), ('one—that', 0.6550418734550476), ('As', 0.6520418524742126)]\n",
            "[('Branson', 0.9237784147262573), ('Baldry', 0.9210406541824341), ('Sandy', 0.907724142074585), ('Michel', 0.9073596596717834), ('Belle', 0.9070044755935669), ('Michelle', 0.9069617390632629), ('Boyle', 0.9063393473625183), ('Pearman', 0.9046995639801025), ('Moyle', 0.9000562429428101), ('Carmichael', 0.8957172632217407)]\n",
            "[('£', 0.895292341709137), ('%', 0.864359438419342), ('kW', 0.8192635774612427), ('MW', 0.7995644807815552), ('$', 0.78473961353302), ('mg', 0.7792526483535767), ('km', 0.7385978698730469), ('GW', 0.7256583571434021), ('mph', 0.7169574499130249), ('#', 0.6988896131515503)]\n",
            "[('skate', 0.9068248271942139), ('derogate', 0.9014018774032593), ('confiscate', 0.898630678653717), ('promulgate', 0.8971973657608032), ('inculcate', 0.8964539766311646), ('retaliate', 0.8957490921020508), ('recuperate', 0.8950091600418091), ('reuse', 0.8919953107833862), ('reciprocate', 0.8883776664733887), ('rejuvenate', 0.888034999370575)]\n",
            "[('225', 0.9752001166343689), ('15·4', 0.9707119464874268), ('15.8', 0.9704214334487915), ('5.15', 0.9691325426101685), ('15.6', 0.9685885310173035), ('15·6', 0.9685150980949402), ('15.9', 0.9679380655288696), ('151', 0.9677368998527527), ('230', 0.9677191376686096), ('525', 0.9671908617019653)]\n",
            "[('defamation', 0.9641791582107544), ('saturation', 0.9641662240028381), ('consecration', 0.9626827239990234), ('tenement', 0.9601198434829712), ('proclamation', 0.9593371152877808), ('acclamation', 0.9582403898239136), ('predation', 0.9581596851348877), ('derogation', 0.9570978879928589), ('demarcation', 0.95695960521698), ('conurbation', 0.9557657241821289)]\n",
            "[('Teddington', 0.9452308416366577), ('Cranston', 0.9451489448547363), ('Beddington', 0.9433684349060059), ('Horton', 0.9399299025535583), ('Buxton', 0.9392266869544983), ('Kennington', 0.9387734532356262), ('Addington', 0.9386078715324402), ('Clacton', 0.9379268884658813), ('Bebington', 0.9379158616065979), ('Fenton', 0.9369214773178101)]\n",
            "[('bamboozle', 0.8838752508163452), ('le', 0.870093584060669), ('bubble', 0.8691239356994629), ('shiver', 0.864196240901947), ('polymerase', 0.8639746904373169), ('strawberry', 0.8608870506286621), ('rifle', 0.8591016530990601), ('axle', 0.8579513430595398), ('cradle', 0.8558886051177979), ('staple', 0.8526737689971924)]\n"
          ],
          "name": "stdout"
        }
      ]
    }
  ]
}